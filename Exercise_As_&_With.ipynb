{
  "metadata": {
    "kernelspec": {
      "display_name": "Python 3",
      "language": "python",
      "name": "python3"
    },
    "language_info": {
      "name": "python",
      "version": "3.10.13",
      "mimetype": "text/x-python",
      "codemirror_mode": {
        "name": "ipython",
        "version": 3
      },
      "pygments_lexer": "ipython3",
      "nbconvert_exporter": "python",
      "file_extension": ".py"
    },
    "kaggle": {
      "accelerator": "none",
      "dataSources": [
        {
          "sourceId": 28536,
          "sourceType": "datasetVersion",
          "datasetId": 22219
        },
        {
          "sourceId": 285947,
          "sourceType": "datasetVersion",
          "datasetId": 11496
        }
      ],
      "isInternetEnabled": true,
      "language": "python",
      "sourceType": "notebook",
      "isGpuEnabled": false
    },
    "colab": {
      "name": "Exercise: As & With",
      "provenance": [],
      "include_colab_link": true
    }
  },
  "nbformat_minor": 0,
  "nbformat": 4,
  "cells": [
    {
      "cell_type": "markdown",
      "metadata": {
        "id": "view-in-github",
        "colab_type": "text"
      },
      "source": [
        "<a href=\"https://colab.research.google.com/github/dangtrantrung/Kaggle-Intro-to-SQL/blob/master/Exercise_As_%26_With.ipynb\" target=\"_parent\"><img src=\"https://colab.research.google.com/assets/colab-badge.svg\" alt=\"Open In Colab\"/></a>"
      ]
    },
    {
      "cell_type": "markdown",
      "source": [
        "**This notebook is an exercise in the [SQL](https://www.kaggle.com/learn/intro-to-sql) course.  You can reference the tutorial at [this link](https://www.kaggle.com/dansbecker/as-with).**\n",
        "\n",
        "---\n"
      ],
      "metadata": {
        "id": "ezP_rHd3uteH"
      }
    },
    {
      "cell_type": "markdown",
      "source": [
        "# Introduction\n",
        "\n",
        "You are getting to the point where you can own an analysis from beginning to end. So you'll do more data exploration in this exercise than you've done before.  Before you get started, run the following set-up code as usual."
      ],
      "metadata": {
        "id": "DaWrL7w0uteJ"
      }
    },
    {
      "cell_type": "code",
      "source": [
        "# Get most recent checking code\n",
        "!pip install -U -t /kaggle/working/ git+https://github.com/Kaggle/learntools.git\n",
        "# Set up feedback system\n",
        "from learntools.core import binder\n",
        "binder.bind(globals())\n",
        "from learntools.sql.ex5 import *\n",
        "print(\"Setup Complete\")"
      ],
      "metadata": {
        "execution": {
          "iopub.status.busy": "2024-03-27T06:52:16.173232Z"
        },
        "trusted": true,
        "colab": {
          "base_uri": "https://localhost:8080/",
          "height": 628
        },
        "id": "6LOWcCDvuteK",
        "outputId": "8195f23e-18fd-45f5-f9cf-dc765aa45452"
      },
      "execution_count": 1,
      "outputs": [
        {
          "output_type": "stream",
          "name": "stdout",
          "text": [
            "Collecting git+https://github.com/Kaggle/learntools.git\n",
            "  Cloning https://github.com/Kaggle/learntools.git to /tmp/pip-req-build-r_9wpshw\n",
            "  Running command git clone --filter=blob:none --quiet https://github.com/Kaggle/learntools.git /tmp/pip-req-build-r_9wpshw\n",
            "  Resolved https://github.com/Kaggle/learntools.git to commit ca2a51ee0085e4943cadaf5e9fe7dce2ec947d3c\n",
            "  Preparing metadata (setup.py) ... \u001b[?25l\u001b[?25hdone\n",
            "Building wheels for collected packages: learntools\n",
            "  Building wheel for learntools (setup.py) ... \u001b[?25l\u001b[?25hdone\n",
            "  Created wheel for learntools: filename=learntools-0.3.4-py3-none-any.whl size=268968 sha256=b169b82d0b2ee3436e6b4dec3243322b444cef5171cd7f3141d6b25bb5971225\n",
            "  Stored in directory: /tmp/pip-ephem-wheel-cache-hb27x8y3/wheels/2f/6c/3c/aa9f50cfb5a862157cb4c7a5b34881828cf45404698255dced\n",
            "Successfully built learntools\n",
            "Installing collected packages: learntools\n",
            "Successfully installed learntools-0.3.4\n"
          ]
        },
        {
          "output_type": "error",
          "ename": "ModuleNotFoundError",
          "evalue": "No module named 'learntools'",
          "traceback": [
            "\u001b[0;31m---------------------------------------------------------------------------\u001b[0m",
            "\u001b[0;31mModuleNotFoundError\u001b[0m                       Traceback (most recent call last)",
            "\u001b[0;32m<ipython-input-1-7c0939f1c3bf>\u001b[0m in \u001b[0;36m<cell line: 4>\u001b[0;34m()\u001b[0m\n\u001b[1;32m      2\u001b[0m \u001b[0mget_ipython\u001b[0m\u001b[0;34m(\u001b[0m\u001b[0;34m)\u001b[0m\u001b[0;34m.\u001b[0m\u001b[0msystem\u001b[0m\u001b[0;34m(\u001b[0m\u001b[0;34m'pip install -U -t /kaggle/working/ git+https://github.com/Kaggle/learntools.git'\u001b[0m\u001b[0;34m)\u001b[0m\u001b[0;34m\u001b[0m\u001b[0;34m\u001b[0m\u001b[0m\n\u001b[1;32m      3\u001b[0m \u001b[0;31m# Set up feedback system\u001b[0m\u001b[0;34m\u001b[0m\u001b[0;34m\u001b[0m\u001b[0m\n\u001b[0;32m----> 4\u001b[0;31m \u001b[0;32mfrom\u001b[0m \u001b[0mlearntools\u001b[0m\u001b[0;34m.\u001b[0m\u001b[0mcore\u001b[0m \u001b[0;32mimport\u001b[0m \u001b[0mbinder\u001b[0m\u001b[0;34m\u001b[0m\u001b[0;34m\u001b[0m\u001b[0m\n\u001b[0m\u001b[1;32m      5\u001b[0m \u001b[0mbinder\u001b[0m\u001b[0;34m.\u001b[0m\u001b[0mbind\u001b[0m\u001b[0;34m(\u001b[0m\u001b[0mglobals\u001b[0m\u001b[0;34m(\u001b[0m\u001b[0;34m)\u001b[0m\u001b[0;34m)\u001b[0m\u001b[0;34m\u001b[0m\u001b[0;34m\u001b[0m\u001b[0m\n\u001b[1;32m      6\u001b[0m \u001b[0;32mfrom\u001b[0m \u001b[0mlearntools\u001b[0m\u001b[0;34m.\u001b[0m\u001b[0msql\u001b[0m\u001b[0;34m.\u001b[0m\u001b[0mex5\u001b[0m \u001b[0;32mimport\u001b[0m \u001b[0;34m*\u001b[0m\u001b[0;34m\u001b[0m\u001b[0;34m\u001b[0m\u001b[0m\n",
            "\u001b[0;31mModuleNotFoundError\u001b[0m: No module named 'learntools'",
            "",
            "\u001b[0;31m---------------------------------------------------------------------------\u001b[0;32m\nNOTE: If your import is failing due to a missing package, you can\nmanually install dependencies using either !pip or !apt.\n\nTo view examples of installing some common dependencies, click the\n\"Open Examples\" button below.\n\u001b[0;31m---------------------------------------------------------------------------\u001b[0m\n"
          ],
          "errorDetails": {
            "actions": [
              {
                "action": "open_url",
                "actionText": "Open Examples",
                "url": "/notebooks/snippets/importing_libraries.ipynb"
              }
            ]
          }
        }
      ]
    },
    {
      "cell_type": "markdown",
      "source": [
        "You'll work with a dataset about taxi trips in the city of Chicago. Run the cell below to fetch the `chicago_taxi_trips` dataset."
      ],
      "metadata": {
        "id": "WcwMvea3uteL"
      }
    },
    {
      "cell_type": "code",
      "source": [
        "from google.cloud import bigquery\n",
        "\n",
        "# Create a \"Client\" object\n",
        "client = bigquery.Client()\n",
        "\n",
        "# Construct a reference to the \"chicago_taxi_trips\" dataset\n",
        "dataset_ref = client.dataset(\"chicago_taxi_trips\", project=\"bigquery-public-data\")\n",
        "\n",
        "# API request - fetch the dataset\n",
        "dataset = client.get_dataset(dataset_ref)"
      ],
      "metadata": {
        "trusted": true,
        "id": "akJTN2fiuteM"
      },
      "execution_count": null,
      "outputs": []
    },
    {
      "cell_type": "code",
      "source": [
        "dataset_ref"
      ],
      "metadata": {
        "trusted": true,
        "id": "_hd0VlFduteM"
      },
      "execution_count": null,
      "outputs": []
    },
    {
      "cell_type": "markdown",
      "source": [
        "# Exercises\n",
        "\n",
        "You are curious how much slower traffic moves when traffic volume is high. This involves a few steps.\n",
        "\n",
        "### 1) Find the data\n",
        "Before you can access the data, you need to find the table name with the data.\n",
        "\n",
        "*Hint*: Tab completion is helpful whenever you can't remember a command. Type `client.` and then hit the tab key. Don't forget the period before hitting tab."
      ],
      "metadata": {
        "id": "A-ByHxYKuteN"
      }
    },
    {
      "cell_type": "code",
      "source": [
        "# Your code here to find the table name\n",
        "client"
      ],
      "metadata": {
        "trusted": true,
        "id": "Wrw9X6qDuteO"
      },
      "execution_count": null,
      "outputs": []
    },
    {
      "cell_type": "code",
      "source": [
        "# Write the table name as a string below\n",
        "table_name = \"taxi_trips\"\n",
        "\n",
        "# Check your answer\n",
        "q_1.check()"
      ],
      "metadata": {
        "trusted": true,
        "id": "jXUewqLvuteO"
      },
      "execution_count": null,
      "outputs": []
    },
    {
      "cell_type": "markdown",
      "source": [
        "For the solution, uncomment the line below."
      ],
      "metadata": {
        "id": "zRqtldu_uteP"
      }
    },
    {
      "cell_type": "code",
      "source": [
        "#q_1.solution()"
      ],
      "metadata": {
        "trusted": true,
        "id": "ZxA7mIBnuteQ"
      },
      "execution_count": null,
      "outputs": []
    },
    {
      "cell_type": "markdown",
      "source": [
        "### 2) Peek at the data\n",
        "\n",
        "Use the next code cell to peek at the top few rows of the data. Inspect the data and see if any issues with data quality are immediately obvious."
      ],
      "metadata": {
        "id": "UIM7PgwHuteR"
      }
    },
    {
      "cell_type": "code",
      "source": [
        "# Your code here\n",
        "# Construct a reference to the \"transactions\" table\n",
        "table_ref = dataset_ref.table(table_name)\n",
        "\n",
        "# API request - fetch the table\n",
        "table = client.get_table(table_ref)\n",
        "\n",
        "# Preview the first five lines of the \"transactions\" table\n",
        "client.list_rows(table, max_results=5).to_dataframe()"
      ],
      "metadata": {
        "trusted": true,
        "id": "F2nq9eKOuteS"
      },
      "execution_count": null,
      "outputs": []
    },
    {
      "cell_type": "markdown",
      "source": [
        "After deciding whether you see any important issues, run the code cell below."
      ],
      "metadata": {
        "id": "hVHjwxbeuteT"
      }
    },
    {
      "cell_type": "code",
      "source": [
        "# Check your answer (Run this code cell to receive credit!)\n",
        "q_2.check()\n",
        "#q_2.solution()"
      ],
      "metadata": {
        "trusted": true,
        "id": "zRMsP6L6uteU"
      },
      "execution_count": null,
      "outputs": []
    },
    {
      "cell_type": "markdown",
      "source": [
        "### 3) Determine when this data is from\n",
        "\n",
        "If the data is sufficiently old, we might be careful before assuming the data is still relevant to traffic patterns today. Write a query that counts the number of trips in each year.  \n",
        "\n",
        "Your results should have two columns:\n",
        "- `year` - the year of the trips\n",
        "- `num_trips` - the number of trips in that year\n",
        "\n",
        "Hints:\n",
        "- When using **GROUP BY** and **ORDER BY**, you should refer to the columns by the alias `year` that you set at the top of the **SELECT** query.\n",
        "- The SQL code to **SELECT** the year from `trip_start_timestamp` is <code>SELECT EXTRACT(YEAR FROM trip_start_timestamp)</code>\n",
        "- The **FROM** field can be a little tricky until you are used to it.  The format is:\n",
        "    1. A backick (the symbol \\`).\n",
        "    2. The project name. In this case it is `bigquery-public-data`.\n",
        "    3. A period.\n",
        "    4. The dataset name. In this case, it is `chicago_taxi_trips`.\n",
        "    5. A period.\n",
        "    6. The table name. You used this as your answer in **1) Find the data**.\n",
        "    7. A backtick (the symbol \\`)."
      ],
      "metadata": {
        "id": "sMcEXwhzuteV"
      }
    },
    {
      "cell_type": "code",
      "source": [
        "# Your code goes here\n",
        "rides_per_year_query = \"\"\"____\"\"\"\n",
        "\n",
        "# Set up the query (cancel the query if it would use too much of\n",
        "# your quota)\n",
        "safe_config = bigquery.QueryJobConfig(maximum_bytes_billed=10**10)\n",
        "rides_per_year_query_job = ____ # Your code goes here\n",
        "\n",
        "# API request - run the query, and return a pandas DataFrame\n",
        "rides_per_year_result = ____ # Your code goes here\n",
        "\n",
        "# View results\n",
        "print(rides_per_year_result)\n",
        "\n",
        "# Check your answer\n",
        "q_3.check()"
      ],
      "metadata": {
        "trusted": true,
        "id": "ILUFAQlEuteW"
      },
      "execution_count": null,
      "outputs": []
    },
    {
      "cell_type": "markdown",
      "source": [
        "For a hint or the solution, uncomment the appropriate line below."
      ],
      "metadata": {
        "id": "ham_eHUeuteX"
      }
    },
    {
      "cell_type": "code",
      "source": [
        "#q_3.hint()\n",
        "#q_3.solution()"
      ],
      "metadata": {
        "trusted": true,
        "id": "Z74UPy1euteX"
      },
      "execution_count": null,
      "outputs": []
    },
    {
      "cell_type": "markdown",
      "source": [
        "### 4) Dive slightly deeper\n",
        "\n",
        "You'd like to take a closer look at rides from 2016.  Copy the query you used above in `rides_per_year_query` into the cell below for `rides_per_month_query`.  Then modify it in two ways:\n",
        "1. Use a **WHERE** clause to limit the query to data from 2016.\n",
        "2. Modify the query to extract the month rather than the year."
      ],
      "metadata": {
        "id": "0DnNb1PkuteX"
      }
    },
    {
      "cell_type": "code",
      "source": [
        "# Your code goes here\n",
        "rides_per_month_query = \"\"\"____\"\"\"\n",
        "\n",
        "# Set up the query\n",
        "safe_config = bigquery.QueryJobConfig(maximum_bytes_billed=10**10)\n",
        "rides_per_month_query_job = ____ # Your code goes here\n",
        "\n",
        "# API request - run the query, and return a pandas DataFrame\n",
        "rides_per_month_result = ____ # Your code goes here\n",
        "\n",
        "# View results\n",
        "print(rides_per_month_result)\n",
        "\n",
        "# Check your answer\n",
        "q_4.check()"
      ],
      "metadata": {
        "trusted": true,
        "id": "ynfhOqsHuteY"
      },
      "execution_count": null,
      "outputs": []
    },
    {
      "cell_type": "markdown",
      "source": [
        "For a hint or the solution, uncomment the appropriate line below."
      ],
      "metadata": {
        "id": "3Tfyy-uluteZ"
      }
    },
    {
      "cell_type": "code",
      "source": [
        "#q_4.hint()\n",
        "#q_4.solution()"
      ],
      "metadata": {
        "trusted": true,
        "id": "rfGCKJ0ButeZ"
      },
      "execution_count": null,
      "outputs": []
    },
    {
      "cell_type": "markdown",
      "source": [
        "### 5) Write the query\n",
        "\n",
        "It's time to step up the sophistication of your queries.  Write a query that shows, for each hour of the day in the dataset, the corresponding number of trips and average speed.\n",
        "\n",
        "Your results should have three columns:\n",
        "- `hour_of_day` - sort by this column, which holds the result of extracting the hour from `trip_start_timestamp`.\n",
        "- `num_trips` - the count of the total number of trips in each hour of the day (e.g. how many trips were started between 6AM and 7AM, independent of which day it occurred on).\n",
        "- `avg_mph` - the average speed, measured in miles per hour, for trips that started in that hour of the day.  Average speed in miles per hour is calculated as `3600 * SUM(trip_miles) / SUM(trip_seconds)`. (The value 3600 is used to convert from seconds to hours.)\n",
        "\n",
        "Restrict your query to data meeting the following criteria:\n",
        "- a `trip_start_timestamp` > **2016-01-01** and < **2016-04-01**\n",
        "- `trip_seconds` > 0 and `trip_miles` > 0\n",
        "\n",
        "You will use a common table expression (CTE) to select just the relevant rides.  Because this dataset is very big, this CTE should select only the columns you'll need to create the final output (though you won't actually create those in the CTE -- instead you'll create those in the later **SELECT** statement below the CTE).\n",
        "\n",
        "This is a much harder query than anything you've written so far.  Good luck!"
      ],
      "metadata": {
        "id": "NlI9R_iWuteZ"
      }
    },
    {
      "cell_type": "code",
      "source": [
        "# Your code goes here\n",
        "speeds_query = \"\"\"\n",
        "               WITH RelevantRides AS\n",
        "               (\n",
        "                   SELECT ____\n",
        "                   FROM ____\n",
        "                   WHERE ____\n",
        "               )\n",
        "               SELECT ______\n",
        "               FROM RelevantRides\n",
        "               GROUP BY ____\n",
        "               ORDER BY ____\n",
        "               \"\"\"\n",
        "\n",
        "# Set up the query\n",
        "safe_config = bigquery.QueryJobConfig(maximum_bytes_billed=10**10)\n",
        "speeds_query_job = ____ # Your code here\n",
        "\n",
        "# API request - run the query, and return a pandas DataFrame\n",
        "speeds_result = ____ # Your code here\n",
        "\n",
        "# View results\n",
        "print(speeds_result)\n",
        "\n",
        "# Check your answer\n",
        "q_5.check()"
      ],
      "metadata": {
        "trusted": true,
        "id": "S5QxxXasuteZ"
      },
      "execution_count": null,
      "outputs": []
    },
    {
      "cell_type": "markdown",
      "source": [
        "For the solution, uncomment the appropriate line below."
      ],
      "metadata": {
        "id": "baktJmrLuteZ"
      }
    },
    {
      "cell_type": "code",
      "source": [
        "#q_5.solution()"
      ],
      "metadata": {
        "trusted": true,
        "id": "1JoKdW5auteb"
      },
      "execution_count": null,
      "outputs": []
    },
    {
      "cell_type": "markdown",
      "source": [
        "That's a hard query. If you made good progress towards the solution, congratulations!"
      ],
      "metadata": {
        "id": "OOxwVAdJuteb"
      }
    },
    {
      "cell_type": "markdown",
      "source": [
        "# Keep going\n",
        "\n",
        "You can write very complex queries now with a single data source. But nothing expands the horizons of SQL as much as the ability to combine or **JOIN** tables.\n",
        "\n",
        "**[Click here](https://www.kaggle.com/dansbecker/joining-data)** to start the last lesson in the Intro to SQL course."
      ],
      "metadata": {
        "id": "OEI-k6Okuteb"
      }
    },
    {
      "cell_type": "markdown",
      "source": [
        "---\n",
        "\n",
        "\n",
        "\n",
        "\n",
        "*Have questions or comments? Visit the [course discussion forum](https://www.kaggle.com/learn/intro-to-sql/discussion) to chat with other learners.*"
      ],
      "metadata": {
        "id": "hLPRslEbuteb"
      }
    }
  ]
}