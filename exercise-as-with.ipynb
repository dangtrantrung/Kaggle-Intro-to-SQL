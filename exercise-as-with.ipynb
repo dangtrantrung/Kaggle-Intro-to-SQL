{
 "cells": [
  {
   "cell_type": "markdown",
   "id": "47e6b49f",
   "metadata": {
    "papermill": {
     "duration": 0.007012,
     "end_time": "2024-03-27T07:51:06.021419",
     "exception": false,
     "start_time": "2024-03-27T07:51:06.014407",
     "status": "completed"
    },
    "tags": []
   },
   "source": [
    "**This notebook is an exercise in the [SQL](https://www.kaggle.com/learn/intro-to-sql) course.  You can reference the tutorial at [this link](https://www.kaggle.com/dansbecker/as-with).**\n",
    "\n",
    "---\n"
   ]
  },
  {
   "cell_type": "markdown",
   "id": "0daf8e91",
   "metadata": {
    "papermill": {
     "duration": 0.005253,
     "end_time": "2024-03-27T07:51:06.032469",
     "exception": false,
     "start_time": "2024-03-27T07:51:06.027216",
     "status": "completed"
    },
    "tags": []
   },
   "source": [
    "# Introduction\n",
    "\n",
    "You are getting to the point where you can own an analysis from beginning to end. So you'll do more data exploration in this exercise than you've done before.  Before you get started, run the following set-up code as usual. "
   ]
  },
  {
   "cell_type": "code",
   "execution_count": 1,
   "id": "ee79d73b",
   "metadata": {
    "execution": {
     "iopub.execute_input": "2024-03-27T07:51:06.045321Z",
     "iopub.status.busy": "2024-03-27T07:51:06.044720Z",
     "iopub.status.idle": "2024-03-27T07:51:33.102573Z",
     "shell.execute_reply": "2024-03-27T07:51:33.101692Z"
    },
    "papermill": {
     "duration": 27.067117,
     "end_time": "2024-03-27T07:51:33.105000",
     "exception": false,
     "start_time": "2024-03-27T07:51:06.037883",
     "status": "completed"
    },
    "tags": []
   },
   "outputs": [
    {
     "name": "stdout",
     "output_type": "stream",
     "text": [
      "Collecting git+https://github.com/Kaggle/learntools.git\r\n",
      "  Cloning https://github.com/Kaggle/learntools.git to /tmp/pip-req-build-m0urvb42\r\n",
      "  Running command git clone --filter=blob:none --quiet https://github.com/Kaggle/learntools.git /tmp/pip-req-build-m0urvb42\r\n",
      "  Resolved https://github.com/Kaggle/learntools.git to commit ca2a51ee0085e4943cadaf5e9fe7dce2ec947d3c\r\n",
      "  Preparing metadata (setup.py) ... \u001b[?25ldone\r\n",
      "\u001b[?25hBuilding wheels for collected packages: learntools\r\n",
      "  Building wheel for learntools (setup.py) ... \u001b[?25l-\b \bdone\r\n",
      "\u001b[?25h  Created wheel for learntools: filename=learntools-0.3.4-py3-none-any.whl size=268968 sha256=f96dd770098109eb0b2a3685948e0b20d3777f1aecdc6500ecb44e314202685d\r\n",
      "  Stored in directory: /tmp/pip-ephem-wheel-cache-exifdayv/wheels/2f/6c/3c/aa9f50cfb5a862157cb4c7a5b34881828cf45404698255dced\r\n",
      "Successfully built learntools\r\n",
      "Installing collected packages: learntools\r\n",
      "Successfully installed learntools-0.3.4\r\n",
      "Using Kaggle's public dataset BigQuery integration.\n",
      "Setup Complete\n"
     ]
    }
   ],
   "source": [
    "# Get most recent checking code\n",
    "!pip install -U -t /kaggle/working/ git+https://github.com/Kaggle/learntools.git\n",
    "# Set up feedback system\n",
    "from learntools.core import binder\n",
    "binder.bind(globals())\n",
    "from learntools.sql.ex5 import *\n",
    "print(\"Setup Complete\")"
   ]
  },
  {
   "cell_type": "markdown",
   "id": "1c054f95",
   "metadata": {
    "papermill": {
     "duration": 0.005747,
     "end_time": "2024-03-27T07:51:33.116932",
     "exception": false,
     "start_time": "2024-03-27T07:51:33.111185",
     "status": "completed"
    },
    "tags": []
   },
   "source": [
    "You'll work with a dataset about taxi trips in the city of Chicago. Run the cell below to fetch the `chicago_taxi_trips` dataset."
   ]
  },
  {
   "cell_type": "code",
   "execution_count": 2,
   "id": "48e39349",
   "metadata": {
    "execution": {
     "iopub.execute_input": "2024-03-27T07:51:33.131923Z",
     "iopub.status.busy": "2024-03-27T07:51:33.131293Z",
     "iopub.status.idle": "2024-03-27T07:51:33.435725Z",
     "shell.execute_reply": "2024-03-27T07:51:33.434604Z"
    },
    "papermill": {
     "duration": 0.314592,
     "end_time": "2024-03-27T07:51:33.438387",
     "exception": false,
     "start_time": "2024-03-27T07:51:33.123795",
     "status": "completed"
    },
    "tags": []
   },
   "outputs": [
    {
     "name": "stdout",
     "output_type": "stream",
     "text": [
      "Using Kaggle's public dataset BigQuery integration.\n"
     ]
    }
   ],
   "source": [
    "from google.cloud import bigquery\n",
    "\n",
    "# Create a \"Client\" object\n",
    "client = bigquery.Client()\n",
    "\n",
    "# Construct a reference to the \"chicago_taxi_trips\" dataset\n",
    "dataset_ref = client.dataset(\"chicago_taxi_trips\", project=\"bigquery-public-data\")\n",
    "\n",
    "# API request - fetch the dataset\n",
    "dataset = client.get_dataset(dataset_ref)"
   ]
  },
  {
   "cell_type": "code",
   "execution_count": 3,
   "id": "72705e34",
   "metadata": {
    "execution": {
     "iopub.execute_input": "2024-03-27T07:51:33.452531Z",
     "iopub.status.busy": "2024-03-27T07:51:33.452166Z",
     "iopub.status.idle": "2024-03-27T07:51:33.460528Z",
     "shell.execute_reply": "2024-03-27T07:51:33.459266Z"
    },
    "papermill": {
     "duration": 0.01796,
     "end_time": "2024-03-27T07:51:33.462520",
     "exception": false,
     "start_time": "2024-03-27T07:51:33.444560",
     "status": "completed"
    },
    "tags": []
   },
   "outputs": [
    {
     "data": {
      "text/plain": [
       "DatasetReference('bigquery-public-data', 'chicago_taxi_trips')"
      ]
     },
     "execution_count": 3,
     "metadata": {},
     "output_type": "execute_result"
    }
   ],
   "source": [
    "dataset_ref"
   ]
  },
  {
   "cell_type": "markdown",
   "id": "e9345b08",
   "metadata": {
    "papermill": {
     "duration": 0.006533,
     "end_time": "2024-03-27T07:51:33.476409",
     "exception": false,
     "start_time": "2024-03-27T07:51:33.469876",
     "status": "completed"
    },
    "tags": []
   },
   "source": [
    "# Exercises\n",
    "\n",
    "You are curious how much slower traffic moves when traffic volume is high. This involves a few steps.\n",
    "\n",
    "### 1) Find the data\n",
    "Before you can access the data, you need to find the table name with the data.\n",
    "\n",
    "*Hint*: Tab completion is helpful whenever you can't remember a command. Type `client.` and then hit the tab key. Don't forget the period before hitting tab."
   ]
  },
  {
   "cell_type": "code",
   "execution_count": 4,
   "id": "7e637c23",
   "metadata": {
    "execution": {
     "iopub.execute_input": "2024-03-27T07:51:33.489835Z",
     "iopub.status.busy": "2024-03-27T07:51:33.489466Z",
     "iopub.status.idle": "2024-03-27T07:51:33.498814Z",
     "shell.execute_reply": "2024-03-27T07:51:33.497728Z"
    },
    "papermill": {
     "duration": 0.019201,
     "end_time": "2024-03-27T07:51:33.501401",
     "exception": false,
     "start_time": "2024-03-27T07:51:33.482200",
     "status": "completed"
    },
    "tags": []
   },
   "outputs": [
    {
     "data": {
      "application/javascript": [
       "parent.postMessage({\"jupyterEvent\": \"custom.exercise_interaction\", \"data\": {\"outcomeType\": 1, \"valueTowardsCompletion\": 0.16666666666666666, \"interactionType\": 1, \"questionType\": 1, \"questionId\": \"1_GetTableName\", \"learnToolsVersion\": \"0.3.4\", \"failureMessage\": \"\", \"exceptionClass\": \"\", \"trace\": \"\"}}, \"*\")"
      ],
      "text/plain": [
       "<IPython.core.display.Javascript object>"
      ]
     },
     "metadata": {},
     "output_type": "display_data"
    },
    {
     "data": {
      "text/markdown": [
       "<span style=\"color:#33cc33\">Correct</span>"
      ],
      "text/plain": [
       "Correct"
      ]
     },
     "metadata": {},
     "output_type": "display_data"
    }
   ],
   "source": [
    "# Write the table name as a string below\n",
    "table_name = \"taxi_trips\"\n",
    "\n",
    "# Check your answer\n",
    "q_1.check()"
   ]
  },
  {
   "cell_type": "markdown",
   "id": "70a3a684",
   "metadata": {
    "papermill": {
     "duration": 0.007661,
     "end_time": "2024-03-27T07:51:33.515722",
     "exception": false,
     "start_time": "2024-03-27T07:51:33.508061",
     "status": "completed"
    },
    "tags": []
   },
   "source": [
    "For the solution, uncomment the line below."
   ]
  },
  {
   "cell_type": "code",
   "execution_count": 5,
   "id": "03ca26ff",
   "metadata": {
    "execution": {
     "iopub.execute_input": "2024-03-27T07:51:33.529536Z",
     "iopub.status.busy": "2024-03-27T07:51:33.529209Z",
     "iopub.status.idle": "2024-03-27T07:51:33.533951Z",
     "shell.execute_reply": "2024-03-27T07:51:33.532682Z"
    },
    "papermill": {
     "duration": 0.014019,
     "end_time": "2024-03-27T07:51:33.536008",
     "exception": false,
     "start_time": "2024-03-27T07:51:33.521989",
     "status": "completed"
    },
    "tags": []
   },
   "outputs": [],
   "source": [
    "#q_1.solution()"
   ]
  },
  {
   "cell_type": "markdown",
   "id": "4bd50057",
   "metadata": {
    "papermill": {
     "duration": 0.005862,
     "end_time": "2024-03-27T07:51:33.548297",
     "exception": false,
     "start_time": "2024-03-27T07:51:33.542435",
     "status": "completed"
    },
    "tags": []
   },
   "source": [
    "### 2) Peek at the data\n",
    "\n",
    "Use the next code cell to peek at the top few rows of the data. Inspect the data and see if any issues with data quality are immediately obvious. "
   ]
  },
  {
   "cell_type": "code",
   "execution_count": 6,
   "id": "903812fb",
   "metadata": {
    "execution": {
     "iopub.execute_input": "2024-03-27T07:51:33.562478Z",
     "iopub.status.busy": "2024-03-27T07:51:33.562115Z",
     "iopub.status.idle": "2024-03-27T07:51:34.685406Z",
     "shell.execute_reply": "2024-03-27T07:51:34.684286Z"
    },
    "papermill": {
     "duration": 1.132869,
     "end_time": "2024-03-27T07:51:34.687603",
     "exception": false,
     "start_time": "2024-03-27T07:51:33.554734",
     "status": "completed"
    },
    "tags": []
   },
   "outputs": [
    {
     "data": {
      "text/html": [
       "<div>\n",
       "<style scoped>\n",
       "    .dataframe tbody tr th:only-of-type {\n",
       "        vertical-align: middle;\n",
       "    }\n",
       "\n",
       "    .dataframe tbody tr th {\n",
       "        vertical-align: top;\n",
       "    }\n",
       "\n",
       "    .dataframe thead th {\n",
       "        text-align: right;\n",
       "    }\n",
       "</style>\n",
       "<table border=\"1\" class=\"dataframe\">\n",
       "  <thead>\n",
       "    <tr style=\"text-align: right;\">\n",
       "      <th></th>\n",
       "      <th>unique_key</th>\n",
       "      <th>taxi_id</th>\n",
       "      <th>trip_start_timestamp</th>\n",
       "      <th>trip_end_timestamp</th>\n",
       "      <th>trip_seconds</th>\n",
       "      <th>trip_miles</th>\n",
       "      <th>pickup_census_tract</th>\n",
       "      <th>dropoff_census_tract</th>\n",
       "      <th>pickup_community_area</th>\n",
       "      <th>dropoff_community_area</th>\n",
       "      <th>...</th>\n",
       "      <th>extras</th>\n",
       "      <th>trip_total</th>\n",
       "      <th>payment_type</th>\n",
       "      <th>company</th>\n",
       "      <th>pickup_latitude</th>\n",
       "      <th>pickup_longitude</th>\n",
       "      <th>pickup_location</th>\n",
       "      <th>dropoff_latitude</th>\n",
       "      <th>dropoff_longitude</th>\n",
       "      <th>dropoff_location</th>\n",
       "    </tr>\n",
       "  </thead>\n",
       "  <tbody>\n",
       "    <tr>\n",
       "      <th>0</th>\n",
       "      <td>89dbb2fc5b8dad6e95f3da319010d3995b9aed3a</td>\n",
       "      <td>4efb4a59d8c600a9d2a8d14362769bed234568a573dc5f...</td>\n",
       "      <td>2014-12-01 18:30:00+00:00</td>\n",
       "      <td>2014-12-01 18:30:00+00:00</td>\n",
       "      <td>420</td>\n",
       "      <td>0.8</td>\n",
       "      <td>NaN</td>\n",
       "      <td>NaN</td>\n",
       "      <td>NaN</td>\n",
       "      <td>NaN</td>\n",
       "      <td>...</td>\n",
       "      <td>1.0</td>\n",
       "      <td>6.65</td>\n",
       "      <td>Cash</td>\n",
       "      <td>None</td>\n",
       "      <td>NaN</td>\n",
       "      <td>NaN</td>\n",
       "      <td>None</td>\n",
       "      <td>NaN</td>\n",
       "      <td>NaN</td>\n",
       "      <td>None</td>\n",
       "    </tr>\n",
       "    <tr>\n",
       "      <th>1</th>\n",
       "      <td>33d91796f8cc1c00b68addf4b95b5c0dc01c95d0</td>\n",
       "      <td>ac3197af61ac119894f5d339834595e2d1e28f8d6609e7...</td>\n",
       "      <td>2014-11-28 06:30:00+00:00</td>\n",
       "      <td>2014-11-28 06:45:00+00:00</td>\n",
       "      <td>540</td>\n",
       "      <td>2.2</td>\n",
       "      <td>NaN</td>\n",
       "      <td>NaN</td>\n",
       "      <td>NaN</td>\n",
       "      <td>NaN</td>\n",
       "      <td>...</td>\n",
       "      <td>0.0</td>\n",
       "      <td>8.25</td>\n",
       "      <td>Cash</td>\n",
       "      <td>None</td>\n",
       "      <td>NaN</td>\n",
       "      <td>NaN</td>\n",
       "      <td>None</td>\n",
       "      <td>NaN</td>\n",
       "      <td>NaN</td>\n",
       "      <td>None</td>\n",
       "    </tr>\n",
       "    <tr>\n",
       "      <th>2</th>\n",
       "      <td>9759ecc279a90f20e346d0eab065a8275d28b2e0</td>\n",
       "      <td>ac3197af61ac119894f5d339834595e2d1e28f8d6609e7...</td>\n",
       "      <td>2014-11-28 08:15:00+00:00</td>\n",
       "      <td>2014-11-28 08:15:00+00:00</td>\n",
       "      <td>180</td>\n",
       "      <td>0.5</td>\n",
       "      <td>NaN</td>\n",
       "      <td>NaN</td>\n",
       "      <td>NaN</td>\n",
       "      <td>NaN</td>\n",
       "      <td>...</td>\n",
       "      <td>0.0</td>\n",
       "      <td>4.45</td>\n",
       "      <td>Cash</td>\n",
       "      <td>None</td>\n",
       "      <td>NaN</td>\n",
       "      <td>NaN</td>\n",
       "      <td>None</td>\n",
       "      <td>NaN</td>\n",
       "      <td>NaN</td>\n",
       "      <td>None</td>\n",
       "    </tr>\n",
       "    <tr>\n",
       "      <th>3</th>\n",
       "      <td>a3059e04c539b9f333116268ee80bc8790e31b16</td>\n",
       "      <td>ac3197af61ac119894f5d339834595e2d1e28f8d6609e7...</td>\n",
       "      <td>2014-11-28 05:30:00+00:00</td>\n",
       "      <td>2014-11-28 05:30:00+00:00</td>\n",
       "      <td>180</td>\n",
       "      <td>0.6</td>\n",
       "      <td>NaN</td>\n",
       "      <td>NaN</td>\n",
       "      <td>NaN</td>\n",
       "      <td>NaN</td>\n",
       "      <td>...</td>\n",
       "      <td>0.0</td>\n",
       "      <td>6.84</td>\n",
       "      <td>Credit Card</td>\n",
       "      <td>None</td>\n",
       "      <td>NaN</td>\n",
       "      <td>NaN</td>\n",
       "      <td>None</td>\n",
       "      <td>NaN</td>\n",
       "      <td>NaN</td>\n",
       "      <td>None</td>\n",
       "    </tr>\n",
       "    <tr>\n",
       "      <th>4</th>\n",
       "      <td>e9fbfd63f479544264ab62ffee1663644f089c4f</td>\n",
       "      <td>ac3197af61ac119894f5d339834595e2d1e28f8d6609e7...</td>\n",
       "      <td>2014-11-28 06:15:00+00:00</td>\n",
       "      <td>2014-11-28 06:15:00+00:00</td>\n",
       "      <td>480</td>\n",
       "      <td>2.5</td>\n",
       "      <td>NaN</td>\n",
       "      <td>NaN</td>\n",
       "      <td>NaN</td>\n",
       "      <td>NaN</td>\n",
       "      <td>...</td>\n",
       "      <td>0.0</td>\n",
       "      <td>8.25</td>\n",
       "      <td>Cash</td>\n",
       "      <td>None</td>\n",
       "      <td>NaN</td>\n",
       "      <td>NaN</td>\n",
       "      <td>None</td>\n",
       "      <td>NaN</td>\n",
       "      <td>NaN</td>\n",
       "      <td>None</td>\n",
       "    </tr>\n",
       "  </tbody>\n",
       "</table>\n",
       "<p>5 rows × 23 columns</p>\n",
       "</div>"
      ],
      "text/plain": [
       "                                 unique_key  \\\n",
       "0  89dbb2fc5b8dad6e95f3da319010d3995b9aed3a   \n",
       "1  33d91796f8cc1c00b68addf4b95b5c0dc01c95d0   \n",
       "2  9759ecc279a90f20e346d0eab065a8275d28b2e0   \n",
       "3  a3059e04c539b9f333116268ee80bc8790e31b16   \n",
       "4  e9fbfd63f479544264ab62ffee1663644f089c4f   \n",
       "\n",
       "                                             taxi_id  \\\n",
       "0  4efb4a59d8c600a9d2a8d14362769bed234568a573dc5f...   \n",
       "1  ac3197af61ac119894f5d339834595e2d1e28f8d6609e7...   \n",
       "2  ac3197af61ac119894f5d339834595e2d1e28f8d6609e7...   \n",
       "3  ac3197af61ac119894f5d339834595e2d1e28f8d6609e7...   \n",
       "4  ac3197af61ac119894f5d339834595e2d1e28f8d6609e7...   \n",
       "\n",
       "       trip_start_timestamp        trip_end_timestamp  trip_seconds  \\\n",
       "0 2014-12-01 18:30:00+00:00 2014-12-01 18:30:00+00:00           420   \n",
       "1 2014-11-28 06:30:00+00:00 2014-11-28 06:45:00+00:00           540   \n",
       "2 2014-11-28 08:15:00+00:00 2014-11-28 08:15:00+00:00           180   \n",
       "3 2014-11-28 05:30:00+00:00 2014-11-28 05:30:00+00:00           180   \n",
       "4 2014-11-28 06:15:00+00:00 2014-11-28 06:15:00+00:00           480   \n",
       "\n",
       "   trip_miles  pickup_census_tract  dropoff_census_tract  \\\n",
       "0         0.8                  NaN                   NaN   \n",
       "1         2.2                  NaN                   NaN   \n",
       "2         0.5                  NaN                   NaN   \n",
       "3         0.6                  NaN                   NaN   \n",
       "4         2.5                  NaN                   NaN   \n",
       "\n",
       "   pickup_community_area  dropoff_community_area  ...  extras  trip_total  \\\n",
       "0                    NaN                     NaN  ...     1.0        6.65   \n",
       "1                    NaN                     NaN  ...     0.0        8.25   \n",
       "2                    NaN                     NaN  ...     0.0        4.45   \n",
       "3                    NaN                     NaN  ...     0.0        6.84   \n",
       "4                    NaN                     NaN  ...     0.0        8.25   \n",
       "\n",
       "   payment_type  company  pickup_latitude pickup_longitude pickup_location  \\\n",
       "0          Cash     None              NaN              NaN            None   \n",
       "1          Cash     None              NaN              NaN            None   \n",
       "2          Cash     None              NaN              NaN            None   \n",
       "3   Credit Card     None              NaN              NaN            None   \n",
       "4          Cash     None              NaN              NaN            None   \n",
       "\n",
       "   dropoff_latitude  dropoff_longitude dropoff_location  \n",
       "0               NaN                NaN             None  \n",
       "1               NaN                NaN             None  \n",
       "2               NaN                NaN             None  \n",
       "3               NaN                NaN             None  \n",
       "4               NaN                NaN             None  \n",
       "\n",
       "[5 rows x 23 columns]"
      ]
     },
     "execution_count": 6,
     "metadata": {},
     "output_type": "execute_result"
    }
   ],
   "source": [
    "# Your code here\n",
    "# Construct a reference to the \"transactions\" table\n",
    "table_ref = dataset_ref.table(table_name)\n",
    "\n",
    "# API request - fetch the table\n",
    "table = client.get_table(table_ref)\n",
    "\n",
    "# Preview the first five lines of the \"transactions\" table\n",
    "client.list_rows(table, max_results=5).to_dataframe()"
   ]
  },
  {
   "cell_type": "markdown",
   "id": "a1bcd63f",
   "metadata": {
    "papermill": {
     "duration": 0.006142,
     "end_time": "2024-03-27T07:51:34.700566",
     "exception": false,
     "start_time": "2024-03-27T07:51:34.694424",
     "status": "completed"
    },
    "tags": []
   },
   "source": [
    "After deciding whether you see any important issues, run the code cell below."
   ]
  },
  {
   "cell_type": "code",
   "execution_count": 7,
   "id": "340174b5",
   "metadata": {
    "execution": {
     "iopub.execute_input": "2024-03-27T07:51:34.714782Z",
     "iopub.status.busy": "2024-03-27T07:51:34.714477Z",
     "iopub.status.idle": "2024-03-27T07:51:34.720464Z",
     "shell.execute_reply": "2024-03-27T07:51:34.719748Z"
    },
    "papermill": {
     "duration": 0.015207,
     "end_time": "2024-03-27T07:51:34.722037",
     "exception": false,
     "start_time": "2024-03-27T07:51:34.706830",
     "status": "completed"
    },
    "tags": []
   },
   "outputs": [
    {
     "data": {
      "application/javascript": [
       "parent.postMessage({\"jupyterEvent\": \"custom.exercise_interaction\", \"data\": {\"outcomeType\": 1, \"valueTowardsCompletion\": 0.16666666666666666, \"interactionType\": 1, \"questionType\": 4, \"questionId\": \"2_WhatsWrongWithData\", \"learnToolsVersion\": \"0.3.4\", \"failureMessage\": \"\", \"exceptionClass\": \"\", \"trace\": \"\"}}, \"*\")"
      ],
      "text/plain": [
       "<IPython.core.display.Javascript object>"
      ]
     },
     "metadata": {},
     "output_type": "display_data"
    },
    {
     "data": {
      "text/markdown": [
       "<span style=\"color:#33cc33\">Correct:</span> \n",
       "\n",
       "\n",
       "You can see the data by calling: \n",
       "```python\n",
       "# Construct a reference to the \"taxi_trips\" table\n",
       "table_ref = dataset_ref.table(\"taxi_trips\")\n",
       "\n",
       "# API request - fetch the table\n",
       "table = client.get_table(table_ref)\n",
       "\n",
       "# Preview the first five lines of the \"taxi_trips\" table\n",
       "client.list_rows(table, max_results=5).to_dataframe()\n",
       "```\n",
       "\n",
       "Some location fields have values of `None` or `NaN`. That is a problem if we want to use those fields.\n"
      ],
      "text/plain": [
       "Correct: \n",
       "\n",
       "\n",
       "You can see the data by calling: \n",
       "```python\n",
       "# Construct a reference to the \"taxi_trips\" table\n",
       "table_ref = dataset_ref.table(\"taxi_trips\")\n",
       "\n",
       "# API request - fetch the table\n",
       "table = client.get_table(table_ref)\n",
       "\n",
       "# Preview the first five lines of the \"taxi_trips\" table\n",
       "client.list_rows(table, max_results=5).to_dataframe()\n",
       "```\n",
       "\n",
       "Some location fields have values of `None` or `NaN`. That is a problem if we want to use those fields."
      ]
     },
     "metadata": {},
     "output_type": "display_data"
    }
   ],
   "source": [
    "# Check your answer (Run this code cell to receive credit!)\n",
    "q_2.check()\n",
    "#q_2.solution()"
   ]
  },
  {
   "cell_type": "markdown",
   "id": "f5912ec3",
   "metadata": {
    "papermill": {
     "duration": 0.00624,
     "end_time": "2024-03-27T07:51:34.735007",
     "exception": false,
     "start_time": "2024-03-27T07:51:34.728767",
     "status": "completed"
    },
    "tags": []
   },
   "source": [
    "### 3) Determine when this data is from\n",
    "\n",
    "If the data is sufficiently old, we might be careful before assuming the data is still relevant to traffic patterns today. Write a query that counts the number of trips in each year.  \n",
    "\n",
    "Your results should have two columns:\n",
    "- `year` - the year of the trips\n",
    "- `num_trips` - the number of trips in that year\n",
    "\n",
    "Hints:\n",
    "- When using **GROUP BY** and **ORDER BY**, you should refer to the columns by the alias `year` that you set at the top of the **SELECT** query.\n",
    "- The SQL code to **SELECT** the year from `trip_start_timestamp` is <code>SELECT EXTRACT(YEAR FROM trip_start_timestamp)</code>\n",
    "- The **FROM** field can be a little tricky until you are used to it.  The format is:\n",
    "    1. A backick (the symbol \\`).\n",
    "    2. The project name. In this case it is `bigquery-public-data`.\n",
    "    3. A period.\n",
    "    4. The dataset name. In this case, it is `chicago_taxi_trips`.\n",
    "    5. A period.\n",
    "    6. The table name. You used this as your answer in **1) Find the data**.\n",
    "    7. A backtick (the symbol \\`)."
   ]
  },
  {
   "cell_type": "code",
   "execution_count": 8,
   "id": "3f948240",
   "metadata": {
    "execution": {
     "iopub.execute_input": "2024-03-27T07:51:34.749560Z",
     "iopub.status.busy": "2024-03-27T07:51:34.749169Z",
     "iopub.status.idle": "2024-03-27T07:51:35.710726Z",
     "shell.execute_reply": "2024-03-27T07:51:35.709674Z"
    },
    "papermill": {
     "duration": 0.971231,
     "end_time": "2024-03-27T07:51:35.712667",
     "exception": false,
     "start_time": "2024-03-27T07:51:34.741436",
     "status": "completed"
    },
    "tags": []
   },
   "outputs": [
    {
     "name": "stdout",
     "output_type": "stream",
     "text": [
      "   year  num_trips\n",
      "0  2017   22837699\n",
      "1  2016   20503949\n",
      "2  2018   18347736\n",
      "3  2014   14975761\n",
      "4  2015   13942179\n",
      "5  2013    8057496\n",
      "6  2019    3876273\n",
      "7  2022      35089\n",
      "8  2023      13102\n"
     ]
    },
    {
     "data": {
      "application/javascript": [
       "parent.postMessage({\"jupyterEvent\": \"custom.exercise_interaction\", \"data\": {\"outcomeType\": 1, \"valueTowardsCompletion\": 0.16666666666666666, \"interactionType\": 1, \"questionType\": 2, \"questionId\": \"3_YearDistrib\", \"learnToolsVersion\": \"0.3.4\", \"failureMessage\": \"\", \"exceptionClass\": \"\", \"trace\": \"\"}}, \"*\")"
      ],
      "text/plain": [
       "<IPython.core.display.Javascript object>"
      ]
     },
     "metadata": {},
     "output_type": "display_data"
    },
    {
     "data": {
      "text/markdown": [
       "<span style=\"color:#33cc33\">Correct</span>"
      ],
      "text/plain": [
       "Correct"
      ]
     },
     "metadata": {},
     "output_type": "display_data"
    }
   ],
   "source": [
    "# Your code goes here\n",
    "rides_per_year_query = \"\"\"SELECT EXTRACT(YEAR FROM trip_start_timestamp) as year, count(1) as num_trips\n",
    "                          FROM `bigquery-public-data.chicago_taxi_trips.taxi_trips`\n",
    "                          GROUP BY year\n",
    "                          ORDER BY num_trips DESC\n",
    "                    \"\"\"\n",
    "\n",
    "# Set up the query (cancel the query if it would use too much of \n",
    "# your quota)\n",
    "safe_config = bigquery.QueryJobConfig(maximum_bytes_billed=10**10)\n",
    " # Your code goes here\n",
    "    \n",
    "\n",
    "# API request - run the query, and return a pandas DataFrame\n",
    "rides_per_year_query_job = client.query(rides_per_year_query, job_config=safe_config)\n",
    "rides_per_year_result = rides_per_year_query_job.to_dataframe() # Your code goes here\n",
    "\n",
    "# View results\n",
    "print(rides_per_year_result)\n",
    "\n",
    "# Check your answer\n",
    "q_3.check()"
   ]
  },
  {
   "cell_type": "raw",
   "id": "1a3f50c2",
   "metadata": {
    "papermill": {
     "duration": 0.006516,
     "end_time": "2024-03-27T07:51:35.726250",
     "exception": false,
     "start_time": "2024-03-27T07:51:35.719734",
     "status": "completed"
    },
    "tags": []
   },
   "source": [
    "For a hint or the solution, uncomment the appropriate line below."
   ]
  },
  {
   "cell_type": "code",
   "execution_count": 9,
   "id": "71853669",
   "metadata": {
    "execution": {
     "iopub.execute_input": "2024-03-27T07:51:35.741757Z",
     "iopub.status.busy": "2024-03-27T07:51:35.741425Z",
     "iopub.status.idle": "2024-03-27T07:51:35.745336Z",
     "shell.execute_reply": "2024-03-27T07:51:35.744130Z"
    },
    "papermill": {
     "duration": 0.014201,
     "end_time": "2024-03-27T07:51:35.747248",
     "exception": false,
     "start_time": "2024-03-27T07:51:35.733047",
     "status": "completed"
    },
    "tags": []
   },
   "outputs": [],
   "source": [
    "#q_3.hint()\n",
    "#q_3.solution()"
   ]
  },
  {
   "cell_type": "markdown",
   "id": "91eb4591",
   "metadata": {
    "papermill": {
     "duration": 0.008589,
     "end_time": "2024-03-27T07:51:35.763085",
     "exception": false,
     "start_time": "2024-03-27T07:51:35.754496",
     "status": "completed"
    },
    "tags": []
   },
   "source": [
    "### 4) Dive slightly deeper\n",
    "\n",
    "You'd like to take a closer look at rides from 2016.  Copy the query you used above in `rides_per_year_query` into the cell below for `rides_per_month_query`.  Then modify it in two ways:\n",
    "1. Use a **WHERE** clause to limit the query to data from 2016.\n",
    "2. Modify the query to extract the month rather than the year."
   ]
  },
  {
   "cell_type": "code",
   "execution_count": 10,
   "id": "561c4a4f",
   "metadata": {
    "execution": {
     "iopub.execute_input": "2024-03-27T07:51:35.779210Z",
     "iopub.status.busy": "2024-03-27T07:51:35.778642Z",
     "iopub.status.idle": "2024-03-27T07:51:36.677473Z",
     "shell.execute_reply": "2024-03-27T07:51:36.676628Z"
    },
    "papermill": {
     "duration": 0.908862,
     "end_time": "2024-03-27T07:51:36.679380",
     "exception": false,
     "start_time": "2024-03-27T07:51:35.770518",
     "status": "completed"
    },
    "tags": []
   },
   "outputs": [
    {
     "name": "stdout",
     "output_type": "stream",
     "text": [
      "    month  num_trips\n",
      "0      10    2681787\n",
      "1       8    2533202\n",
      "2       9    2488305\n",
      "3      11    2315812\n",
      "4      12    2243978\n",
      "5       7    2209304\n",
      "6       4    1387172\n",
      "7       6    1235555\n",
      "8       5    1215852\n",
      "9       3     784291\n",
      "10      2     713740\n",
      "11      1     694951\n"
     ]
    },
    {
     "data": {
      "application/javascript": [
       "parent.postMessage({\"jupyterEvent\": \"custom.exercise_interaction\", \"data\": {\"outcomeType\": 1, \"valueTowardsCompletion\": 0.16666666666666666, \"interactionType\": 1, \"questionType\": 2, \"questionId\": \"4_MonthDistrib\", \"learnToolsVersion\": \"0.3.4\", \"failureMessage\": \"\", \"exceptionClass\": \"\", \"trace\": \"\"}}, \"*\")"
      ],
      "text/plain": [
       "<IPython.core.display.Javascript object>"
      ]
     },
     "metadata": {},
     "output_type": "display_data"
    },
    {
     "data": {
      "text/markdown": [
       "<span style=\"color:#33cc33\">Correct</span>"
      ],
      "text/plain": [
       "Correct"
      ]
     },
     "metadata": {},
     "output_type": "display_data"
    }
   ],
   "source": [
    "# Your code goes here\n",
    "rides_per_month_query = \"\"\"SELECT EXTRACT(MONTH FROM trip_start_timestamp) as month, count(1) as num_trips\n",
    "                          FROM `bigquery-public-data.chicago_taxi_trips.taxi_trips`\n",
    "                          WHERE EXTRACT(YEAR FROM trip_start_timestamp) =2016\n",
    "                          GROUP BY month\n",
    "                          ORDER BY num_trips DESC\n",
    "                         \"\"\"\n",
    "\n",
    "# Set up the query\n",
    "safe_config = bigquery.QueryJobConfig(maximum_bytes_billed=10**10)\n",
    "rides_per_month_query_job = client.query(rides_per_month_query, job_config=safe_config)\n",
    "\n",
    "\n",
    "# API request - run the query, and return a pandas DataFrame\n",
    "rides_per_month_result = rides_per_month_query_job.to_dataframe() # Your code goes here\n",
    "\n",
    "# View results\n",
    "print(rides_per_month_result)\n",
    "\n",
    "# Check your answer\n",
    "q_4.check()"
   ]
  },
  {
   "cell_type": "markdown",
   "id": "356a96de",
   "metadata": {
    "papermill": {
     "duration": 0.007216,
     "end_time": "2024-03-27T07:51:36.694310",
     "exception": false,
     "start_time": "2024-03-27T07:51:36.687094",
     "status": "completed"
    },
    "tags": []
   },
   "source": [
    "For a hint or the solution, uncomment the appropriate line below."
   ]
  },
  {
   "cell_type": "code",
   "execution_count": 11,
   "id": "0b214496",
   "metadata": {
    "execution": {
     "iopub.execute_input": "2024-03-27T07:51:36.710758Z",
     "iopub.status.busy": "2024-03-27T07:51:36.710397Z",
     "iopub.status.idle": "2024-03-27T07:51:36.714856Z",
     "shell.execute_reply": "2024-03-27T07:51:36.713711Z"
    },
    "papermill": {
     "duration": 0.015494,
     "end_time": "2024-03-27T07:51:36.717044",
     "exception": false,
     "start_time": "2024-03-27T07:51:36.701550",
     "status": "completed"
    },
    "tags": []
   },
   "outputs": [],
   "source": [
    "#q_4.hint()\n",
    "#q_4.solution()"
   ]
  },
  {
   "cell_type": "markdown",
   "id": "f1d2b893",
   "metadata": {
    "papermill": {
     "duration": 0.006953,
     "end_time": "2024-03-27T07:51:36.731729",
     "exception": false,
     "start_time": "2024-03-27T07:51:36.724776",
     "status": "completed"
    },
    "tags": []
   },
   "source": [
    "### 5) Write the query\n",
    "\n",
    "It's time to step up the sophistication of your queries.  Write a query that shows, for each hour of the day in the dataset, the corresponding number of trips and average speed.\n",
    "\n",
    "Your results should have three columns:\n",
    "- `hour_of_day` - sort by this column, which holds the result of extracting the hour from `trip_start_timestamp`.\n",
    "- `num_trips` - the count of the total number of trips in each hour of the day (e.g. how many trips were started between 6AM and 7AM, independent of which day it occurred on).\n",
    "- `avg_mph` - the average speed, measured in miles per hour, for trips that started in that hour of the day.  Average speed in miles per hour is calculated as `3600 * SUM(trip_miles) / SUM(trip_seconds)`. (The value 3600 is used to convert from seconds to hours.)\n",
    "\n",
    "Restrict your query to data meeting the following criteria:\n",
    "- a `trip_start_timestamp` > **2016-01-01** and < **2016-04-01**\n",
    "- `trip_seconds` > 0 and `trip_miles` > 0\n",
    "\n",
    "You will use a common table expression (CTE) to select just the relevant rides.  Because this dataset is very big, this CTE should select only the columns you'll need to create the final output (though you won't actually create those in the CTE -- instead you'll create those in the later **SELECT** statement below the CTE).\n",
    "\n",
    "This is a much harder query than anything you've written so far.  Good luck!"
   ]
  },
  {
   "cell_type": "code",
   "execution_count": 12,
   "id": "76da2cf0",
   "metadata": {
    "execution": {
     "iopub.execute_input": "2024-03-27T07:51:36.749053Z",
     "iopub.status.busy": "2024-03-27T07:51:36.748461Z",
     "iopub.status.idle": "2024-03-27T07:51:36.758183Z",
     "shell.execute_reply": "2024-03-27T07:51:36.756848Z"
    },
    "papermill": {
     "duration": 0.02179,
     "end_time": "2024-03-27T07:51:36.760606",
     "exception": false,
     "start_time": "2024-03-27T07:51:36.738816",
     "status": "completed"
    },
    "tags": []
   },
   "outputs": [
    {
     "name": "stdout",
     "output_type": "stream",
     "text": [
      "<learntools.core.constants.PlaceholderValue object at 0x7e4e3d221b70>\n"
     ]
    },
    {
     "data": {
      "application/javascript": [
       "parent.postMessage({\"jupyterEvent\": \"custom.exercise_interaction\", \"data\": {\"outcomeType\": 4, \"interactionType\": 1, \"questionType\": 2, \"questionId\": \"5_TheLongQuery\", \"learnToolsVersion\": \"0.3.4\", \"valueTowardsCompletion\": 0.0, \"failureMessage\": \"\", \"exceptionClass\": \"\", \"trace\": \"\"}}, \"*\")"
      ],
      "text/plain": [
       "<IPython.core.display.Javascript object>"
      ]
     },
     "metadata": {},
     "output_type": "display_data"
    },
    {
     "data": {
      "text/markdown": [
       "<span style=\"color:#ccaa33\">Check:</span> When you've updated the starter code, `check()` will tell you whether your code is correct. You need to update the code that creates variable `speeds_result`"
      ],
      "text/plain": [
       "Check: When you've updated the starter code, `check()` will tell you whether your code is correct. You need to update the code that creates variable `speeds_result`"
      ]
     },
     "metadata": {},
     "output_type": "display_data"
    }
   ],
   "source": [
    "# Your code goes here\n",
    "speeds_query = \"\"\"\n",
    "               WITH RelevantRides AS\n",
    "               (\n",
    "                   SELECT ____\n",
    "                   FROM ____\n",
    "                   WHERE ____\n",
    "               )\n",
    "               SELECT ______\n",
    "               FROM RelevantRides\n",
    "               GROUP BY ____\n",
    "               ORDER BY ____\n",
    "               \"\"\"\n",
    "\n",
    "# Set up the query\n",
    "safe_config = bigquery.QueryJobConfig(maximum_bytes_billed=10**10)\n",
    "speeds_query_job = ____ # Your code here\n",
    "\n",
    "# API request - run the query, and return a pandas DataFrame\n",
    "speeds_result = ____ # Your code here\n",
    "\n",
    "# View results\n",
    "print(speeds_result)\n",
    "\n",
    "# Check your answer\n",
    "q_5.check()"
   ]
  },
  {
   "cell_type": "markdown",
   "id": "29c4691e",
   "metadata": {
    "papermill": {
     "duration": 0.007796,
     "end_time": "2024-03-27T07:51:36.776659",
     "exception": false,
     "start_time": "2024-03-27T07:51:36.768863",
     "status": "completed"
    },
    "tags": []
   },
   "source": [
    "For the solution, uncomment the appropriate line below."
   ]
  },
  {
   "cell_type": "code",
   "execution_count": 13,
   "id": "6237433b",
   "metadata": {
    "execution": {
     "iopub.execute_input": "2024-03-27T07:51:36.794630Z",
     "iopub.status.busy": "2024-03-27T07:51:36.794061Z",
     "iopub.status.idle": "2024-03-27T07:51:36.798156Z",
     "shell.execute_reply": "2024-03-27T07:51:36.796778Z"
    },
    "papermill": {
     "duration": 0.015372,
     "end_time": "2024-03-27T07:51:36.800124",
     "exception": false,
     "start_time": "2024-03-27T07:51:36.784752",
     "status": "completed"
    },
    "tags": []
   },
   "outputs": [],
   "source": [
    "#q_5.solution()"
   ]
  },
  {
   "cell_type": "markdown",
   "id": "a784e28e",
   "metadata": {
    "papermill": {
     "duration": 0.007397,
     "end_time": "2024-03-27T07:51:36.815453",
     "exception": false,
     "start_time": "2024-03-27T07:51:36.808056",
     "status": "completed"
    },
    "tags": []
   },
   "source": [
    "That's a hard query. If you made good progress towards the solution, congratulations!"
   ]
  },
  {
   "cell_type": "markdown",
   "id": "5cd060bb",
   "metadata": {
    "papermill": {
     "duration": 0.007177,
     "end_time": "2024-03-27T07:51:36.830706",
     "exception": false,
     "start_time": "2024-03-27T07:51:36.823529",
     "status": "completed"
    },
    "tags": []
   },
   "source": [
    "# Keep going\n",
    "\n",
    "You can write very complex queries now with a single data source. But nothing expands the horizons of SQL as much as the ability to combine or **JOIN** tables.\n",
    "\n",
    "**[Click here](https://www.kaggle.com/dansbecker/joining-data)** to start the last lesson in the Intro to SQL course."
   ]
  },
  {
   "cell_type": "markdown",
   "id": "fa56834c",
   "metadata": {
    "papermill": {
     "duration": 0.007016,
     "end_time": "2024-03-27T07:51:36.845264",
     "exception": false,
     "start_time": "2024-03-27T07:51:36.838248",
     "status": "completed"
    },
    "tags": []
   },
   "source": [
    "---\n",
    "\n",
    "\n",
    "\n",
    "\n",
    "*Have questions or comments? Visit the [course discussion forum](https://www.kaggle.com/learn/intro-to-sql/discussion) to chat with other learners.*"
   ]
  }
 ],
 "metadata": {
  "kaggle": {
   "accelerator": "none",
   "dataSources": [
    {
     "datasetId": 22219,
     "sourceId": 28536,
     "sourceType": "datasetVersion"
    },
    {
     "datasetId": 11496,
     "sourceId": 285947,
     "sourceType": "datasetVersion"
    }
   ],
   "isGpuEnabled": false,
   "isInternetEnabled": true,
   "language": "python",
   "sourceType": "notebook"
  },
  "kernelspec": {
   "display_name": "Python 3",
   "language": "python",
   "name": "python3"
  },
  "language_info": {
   "codemirror_mode": {
    "name": "ipython",
    "version": 3
   },
   "file_extension": ".py",
   "mimetype": "text/x-python",
   "name": "python",
   "nbconvert_exporter": "python",
   "pygments_lexer": "ipython3",
   "version": "3.10.13"
  },
  "papermill": {
   "default_parameters": {},
   "duration": 34.023868,
   "end_time": "2024-03-27T07:51:37.473551",
   "environment_variables": {},
   "exception": null,
   "input_path": "__notebook__.ipynb",
   "output_path": "__notebook__.ipynb",
   "parameters": {},
   "start_time": "2024-03-27T07:51:03.449683",
   "version": "2.5.0"
  }
 },
 "nbformat": 4,
 "nbformat_minor": 5
}
