{
 "cells": [
  {
   "cell_type": "markdown",
   "id": "27050d5f",
   "metadata": {
    "papermill": {
     "duration": 0.003834,
     "end_time": "2024-03-22T07:53:26.384096",
     "exception": false,
     "start_time": "2024-03-22T07:53:26.380262",
     "status": "completed"
    },
    "tags": []
   },
   "source": [
    "**This notebook is an exercise in the [SQL](https://www.kaggle.com/learn/intro-to-sql) course.  You can reference the tutorial at [this link](https://www.kaggle.com/dansbecker/group-by-having-count).**\n",
    "\n",
    "---\n"
   ]
  },
  {
   "cell_type": "markdown",
   "id": "6bfaaee2",
   "metadata": {
    "papermill": {
     "duration": 0.003111,
     "end_time": "2024-03-22T07:53:26.390726",
     "exception": false,
     "start_time": "2024-03-22T07:53:26.387615",
     "status": "completed"
    },
    "tags": []
   },
   "source": [
    "# Introduction\n",
    "\n",
    "Queries with **GROUP BY** can be powerful. There are many small things that can trip you up (like the order of the clauses), but it will start to feel natural once you've done it a few times. Here, you'll write queries using **GROUP BY** to answer questions from the Hacker News dataset.\n",
    "\n",
    "Before you get started, run the following cell to set everything up:"
   ]
  },
  {
   "cell_type": "code",
   "execution_count": 1,
   "id": "2d445b56",
   "metadata": {
    "execution": {
     "iopub.execute_input": "2024-03-22T07:53:26.399136Z",
     "iopub.status.busy": "2024-03-22T07:53:26.398550Z",
     "iopub.status.idle": "2024-03-22T07:53:32.564344Z",
     "shell.execute_reply": "2024-03-22T07:53:32.563278Z"
    },
    "papermill": {
     "duration": 6.172502,
     "end_time": "2024-03-22T07:53:32.566464",
     "exception": false,
     "start_time": "2024-03-22T07:53:26.393962",
     "status": "completed"
    },
    "tags": []
   },
   "outputs": [
    {
     "name": "stdout",
     "output_type": "stream",
     "text": [
      "Using Kaggle's public dataset BigQuery integration.\n",
      "Setup Complete\n"
     ]
    }
   ],
   "source": [
    "# Set up feedback system\n",
    "from learntools.core import binder\n",
    "binder.bind(globals())\n",
    "from learntools.sql.ex3 import *\n",
    "print(\"Setup Complete\")"
   ]
  },
  {
   "cell_type": "markdown",
   "id": "09924918",
   "metadata": {
    "papermill": {
     "duration": 0.0033,
     "end_time": "2024-03-22T07:53:32.573687",
     "exception": false,
     "start_time": "2024-03-22T07:53:32.570387",
     "status": "completed"
    },
    "tags": []
   },
   "source": [
    "The code cell below fetches the `full` table from the `hacker_news` dataset.  We also preview the first five rows of the table."
   ]
  },
  {
   "cell_type": "code",
   "execution_count": 2,
   "id": "4c09cf85",
   "metadata": {
    "execution": {
     "iopub.execute_input": "2024-03-22T07:53:32.581893Z",
     "iopub.status.busy": "2024-03-22T07:53:32.581343Z",
     "iopub.status.idle": "2024-03-22T07:53:34.030742Z",
     "shell.execute_reply": "2024-03-22T07:53:34.030082Z"
    },
    "papermill": {
     "duration": 1.455647,
     "end_time": "2024-03-22T07:53:34.032751",
     "exception": false,
     "start_time": "2024-03-22T07:53:32.577104",
     "status": "completed"
    },
    "tags": []
   },
   "outputs": [
    {
     "name": "stdout",
     "output_type": "stream",
     "text": [
      "Using Kaggle's public dataset BigQuery integration.\n"
     ]
    }
   ],
   "source": [
    "from google.cloud import bigquery\n",
    "\n",
    "# Create a \"Client\" object\n",
    "client = bigquery.Client()\n",
    "\n",
    "# Construct a reference to the \"hacker_news\" dataset\n",
    "dataset_ref = client.dataset(\"hacker_news\", project=\"bigquery-public-data\")\n",
    "\n",
    "# API request - fetch the dataset\n",
    "dataset = client.get_dataset(dataset_ref)\n",
    "\n",
    "# Construct a reference to the \"full\" table\n",
    "table_ref = dataset_ref.table(\"full\")\n",
    "\n",
    "# API request - fetch the table\n",
    "table = client.get_table(table_ref)\n",
    "\n",
    "# Preview the first five lines of the table\n",
    "table_df=client.list_rows(table, max_results=5).to_dataframe()"
   ]
  },
  {
   "cell_type": "code",
   "execution_count": 3,
   "id": "b8582668",
   "metadata": {
    "execution": {
     "iopub.execute_input": "2024-03-22T07:53:34.042097Z",
     "iopub.status.busy": "2024-03-22T07:53:34.041403Z",
     "iopub.status.idle": "2024-03-22T07:53:34.072606Z",
     "shell.execute_reply": "2024-03-22T07:53:34.071518Z"
    },
    "papermill": {
     "duration": 0.037745,
     "end_time": "2024-03-22T07:53:34.074512",
     "exception": false,
     "start_time": "2024-03-22T07:53:34.036767",
     "status": "completed"
    },
    "tags": []
   },
   "outputs": [
    {
     "name": "stdout",
     "output_type": "stream",
     "text": [
      "<class 'pandas.core.frame.DataFrame'>\n",
      "RangeIndex: 5 entries, 0 to 4\n",
      "Data columns (total 14 columns):\n",
      " #   Column       Non-Null Count  Dtype              \n",
      "---  ------       --------------  -----              \n",
      " 0   title        0 non-null      object             \n",
      " 1   url          0 non-null      object             \n",
      " 2   text         5 non-null      object             \n",
      " 3   dead         0 non-null      object             \n",
      " 4   by           5 non-null      object             \n",
      " 5   score        0 non-null      float64            \n",
      " 6   time         5 non-null      int64              \n",
      " 7   timestamp    5 non-null      datetime64[us, UTC]\n",
      " 8   type         5 non-null      object             \n",
      " 9   id           5 non-null      int64              \n",
      " 10  parent       5 non-null      int64              \n",
      " 11  descendants  0 non-null      float64            \n",
      " 12  ranking      0 non-null      float64            \n",
      " 13  deleted      0 non-null      object             \n",
      "dtypes: datetime64[us, UTC](1), float64(3), int64(3), object(7)\n",
      "memory usage: 688.0+ bytes\n"
     ]
    },
    {
     "data": {
      "text/html": [
       "<div>\n",
       "<style scoped>\n",
       "    .dataframe tbody tr th:only-of-type {\n",
       "        vertical-align: middle;\n",
       "    }\n",
       "\n",
       "    .dataframe tbody tr th {\n",
       "        vertical-align: top;\n",
       "    }\n",
       "\n",
       "    .dataframe thead th {\n",
       "        text-align: right;\n",
       "    }\n",
       "</style>\n",
       "<table border=\"1\" class=\"dataframe\">\n",
       "  <thead>\n",
       "    <tr style=\"text-align: right;\">\n",
       "      <th></th>\n",
       "      <th>title</th>\n",
       "      <th>url</th>\n",
       "      <th>text</th>\n",
       "      <th>dead</th>\n",
       "      <th>by</th>\n",
       "      <th>score</th>\n",
       "      <th>time</th>\n",
       "      <th>timestamp</th>\n",
       "      <th>type</th>\n",
       "      <th>id</th>\n",
       "      <th>parent</th>\n",
       "      <th>descendants</th>\n",
       "      <th>ranking</th>\n",
       "      <th>deleted</th>\n",
       "    </tr>\n",
       "  </thead>\n",
       "  <tbody>\n",
       "    <tr>\n",
       "      <th>0</th>\n",
       "      <td>None</td>\n",
       "      <td>None</td>\n",
       "      <td>If the crocodile looked him up on Google, we b...</td>\n",
       "      <td>None</td>\n",
       "      <td>raxxorrax</td>\n",
       "      <td>NaN</td>\n",
       "      <td>1633421535</td>\n",
       "      <td>2021-10-05 08:12:15+00:00</td>\n",
       "      <td>comment</td>\n",
       "      <td>28756662</td>\n",
       "      <td>28750122</td>\n",
       "      <td>NaN</td>\n",
       "      <td>NaN</td>\n",
       "      <td>None</td>\n",
       "    </tr>\n",
       "    <tr>\n",
       "      <th>1</th>\n",
       "      <td>None</td>\n",
       "      <td>None</td>\n",
       "      <td>What exactly are you looking for? I think Pyto...</td>\n",
       "      <td>None</td>\n",
       "      <td>abiro</td>\n",
       "      <td>NaN</td>\n",
       "      <td>1569141387</td>\n",
       "      <td>2019-09-22 08:36:27+00:00</td>\n",
       "      <td>comment</td>\n",
       "      <td>21040311</td>\n",
       "      <td>21040141</td>\n",
       "      <td>NaN</td>\n",
       "      <td>NaN</td>\n",
       "      <td>None</td>\n",
       "    </tr>\n",
       "    <tr>\n",
       "      <th>2</th>\n",
       "      <td>None</td>\n",
       "      <td>None</td>\n",
       "      <td>Ironically, this very project might help out w...</td>\n",
       "      <td>None</td>\n",
       "      <td>mjevans</td>\n",
       "      <td>NaN</td>\n",
       "      <td>1505769703</td>\n",
       "      <td>2017-09-18 21:21:43+00:00</td>\n",
       "      <td>comment</td>\n",
       "      <td>15279716</td>\n",
       "      <td>15276626</td>\n",
       "      <td>NaN</td>\n",
       "      <td>NaN</td>\n",
       "      <td>None</td>\n",
       "    </tr>\n",
       "    <tr>\n",
       "      <th>3</th>\n",
       "      <td>None</td>\n",
       "      <td>None</td>\n",
       "      <td>As you start to gain some experience it can be...</td>\n",
       "      <td>None</td>\n",
       "      <td>every_other</td>\n",
       "      <td>NaN</td>\n",
       "      <td>1538575027</td>\n",
       "      <td>2018-10-03 13:57:07+00:00</td>\n",
       "      <td>comment</td>\n",
       "      <td>18130207</td>\n",
       "      <td>18128477</td>\n",
       "      <td>NaN</td>\n",
       "      <td>NaN</td>\n",
       "      <td>None</td>\n",
       "    </tr>\n",
       "    <tr>\n",
       "      <th>4</th>\n",
       "      <td>None</td>\n",
       "      <td>None</td>\n",
       "      <td>That’s what I was referring to, yes. I heard o...</td>\n",
       "      <td>None</td>\n",
       "      <td>manmal</td>\n",
       "      <td>NaN</td>\n",
       "      <td>1615664155</td>\n",
       "      <td>2021-03-13 19:35:55+00:00</td>\n",
       "      <td>comment</td>\n",
       "      <td>26449260</td>\n",
       "      <td>26449237</td>\n",
       "      <td>NaN</td>\n",
       "      <td>NaN</td>\n",
       "      <td>None</td>\n",
       "    </tr>\n",
       "  </tbody>\n",
       "</table>\n",
       "</div>"
      ],
      "text/plain": [
       "  title   url                                               text  dead  \\\n",
       "0  None  None  If the crocodile looked him up on Google, we b...  None   \n",
       "1  None  None  What exactly are you looking for? I think Pyto...  None   \n",
       "2  None  None  Ironically, this very project might help out w...  None   \n",
       "3  None  None  As you start to gain some experience it can be...  None   \n",
       "4  None  None  That’s what I was referring to, yes. I heard o...  None   \n",
       "\n",
       "            by  score        time                 timestamp     type  \\\n",
       "0    raxxorrax    NaN  1633421535 2021-10-05 08:12:15+00:00  comment   \n",
       "1        abiro    NaN  1569141387 2019-09-22 08:36:27+00:00  comment   \n",
       "2      mjevans    NaN  1505769703 2017-09-18 21:21:43+00:00  comment   \n",
       "3  every_other    NaN  1538575027 2018-10-03 13:57:07+00:00  comment   \n",
       "4       manmal    NaN  1615664155 2021-03-13 19:35:55+00:00  comment   \n",
       "\n",
       "         id    parent  descendants  ranking deleted  \n",
       "0  28756662  28750122          NaN      NaN    None  \n",
       "1  21040311  21040141          NaN      NaN    None  \n",
       "2  15279716  15276626          NaN      NaN    None  \n",
       "3  18130207  18128477          NaN      NaN    None  \n",
       "4  26449260  26449237          NaN      NaN    None  "
      ]
     },
     "execution_count": 3,
     "metadata": {},
     "output_type": "execute_result"
    }
   ],
   "source": [
    "table_df.info()\n",
    "table_df.head()"
   ]
  },
  {
   "cell_type": "markdown",
   "id": "27a3c9d7",
   "metadata": {
    "papermill": {
     "duration": 0.003769,
     "end_time": "2024-03-22T07:53:34.082688",
     "exception": false,
     "start_time": "2024-03-22T07:53:34.078919",
     "status": "completed"
    },
    "tags": []
   },
   "source": [
    "# Exercises\n",
    "\n",
    "### 1) Prolific commenters\n",
    "\n",
    "Hacker News would like to send awards to everyone who has written more than 10,000 posts. Write a query that returns all authors with more than 10,000 posts as well as their post counts. Call the column with post counts `NumPosts`.\n",
    "\n",
    "In case sample query is helpful, here is a query you saw in the tutorial to answer a similar question:\n",
    "```\n",
    "query = \"\"\"\n",
    "        SELECT parent, COUNT(1) AS NumPosts\n",
    "        FROM `bigquery-public-data.hacker_news.full`\n",
    "        GROUP BY parent\n",
    "        HAVING COUNT(1) > 10\n",
    "        \"\"\"\n",
    "```"
   ]
  },
  {
   "cell_type": "code",
   "execution_count": 4,
   "id": "f039a1eb",
   "metadata": {
    "execution": {
     "iopub.execute_input": "2024-03-22T07:53:34.092508Z",
     "iopub.status.busy": "2024-03-22T07:53:34.091528Z",
     "iopub.status.idle": "2024-03-22T07:53:35.328980Z",
     "shell.execute_reply": "2024-03-22T07:53:35.328162Z"
    },
    "papermill": {
     "duration": 1.243971,
     "end_time": "2024-03-22T07:53:35.330684",
     "exception": false,
     "start_time": "2024-03-22T07:53:34.086713",
     "status": "completed"
    },
    "tags": []
   },
   "outputs": [
    {
     "name": "stdout",
     "output_type": "stream",
     "text": [
      "      author  NumPosts\n",
      "0    coldtea     27611\n",
      "1  agumonkey     16756\n",
      "2  anigbrowl     19802\n",
      "3     tyingq     13616\n",
      "4   masklinn     14922\n"
     ]
    },
    {
     "data": {
      "application/javascript": [
       "parent.postMessage({\"jupyterEvent\": \"custom.exercise_interaction\", \"data\": {\"outcomeType\": 1, \"valueTowardsCompletion\": 0.5, \"interactionType\": 1, \"questionType\": 2, \"questionId\": \"1_ProlificCommenters\", \"learnToolsVersion\": \"0.3.4\", \"failureMessage\": \"\", \"exceptionClass\": \"\", \"trace\": \"\"}}, \"*\")"
      ],
      "text/plain": [
       "<IPython.core.display.Javascript object>"
      ]
     },
     "metadata": {},
     "output_type": "display_data"
    },
    {
     "data": {
      "text/markdown": [
       "<span style=\"color:#33cc33\">Correct</span>"
      ],
      "text/plain": [
       "Correct"
      ]
     },
     "metadata": {},
     "output_type": "display_data"
    }
   ],
   "source": [
    "# Query to select prolific commenters and post counts\n",
    "prolific_commenters_query = \"\"\" SELECT `by` AS author, COUNT('by') as NumPosts\n",
    "            FROM `bigquery-public-data.hacker_news.full`\n",
    "            GROUP BY author\n",
    "            HAVING COUNT('by') > 10000\"\"\" # Your code goes here\n",
    "\n",
    "# Set up the query (cancel the query if it would use too much of \n",
    "# your quota, with the limit set to 1 GB)\n",
    "safe_config = bigquery.QueryJobConfig(maximum_bytes_billed=10**10)\n",
    "query_job = client.query(prolific_commenters_query, job_config=safe_config)\n",
    "\n",
    "# API request - run the query, and return a pandas DataFrame\n",
    "prolific_commenters = query_job.to_dataframe()\n",
    "\n",
    "# View top few rows of results\n",
    "print(prolific_commenters.head())\n",
    "\n",
    "# Check your answer\n",
    "q_1.check()"
   ]
  },
  {
   "cell_type": "markdown",
   "id": "52691c81",
   "metadata": {
    "papermill": {
     "duration": 0.003868,
     "end_time": "2024-03-22T07:53:35.338885",
     "exception": false,
     "start_time": "2024-03-22T07:53:35.335017",
     "status": "completed"
    },
    "tags": []
   },
   "source": [
    "For the solution, uncomment the line below."
   ]
  },
  {
   "cell_type": "code",
   "execution_count": 5,
   "id": "95056d01",
   "metadata": {
    "execution": {
     "iopub.execute_input": "2024-03-22T07:53:35.348328Z",
     "iopub.status.busy": "2024-03-22T07:53:35.348053Z",
     "iopub.status.idle": "2024-03-22T07:53:35.351483Z",
     "shell.execute_reply": "2024-03-22T07:53:35.350583Z"
    },
    "papermill": {
     "duration": 0.010759,
     "end_time": "2024-03-22T07:53:35.353737",
     "exception": false,
     "start_time": "2024-03-22T07:53:35.342978",
     "status": "completed"
    },
    "tags": []
   },
   "outputs": [],
   "source": [
    "#q_1.solution()"
   ]
  },
  {
   "cell_type": "markdown",
   "id": "0c8f8fd9",
   "metadata": {
    "papermill": {
     "duration": 0.004759,
     "end_time": "2024-03-22T07:53:35.363372",
     "exception": false,
     "start_time": "2024-03-22T07:53:35.358613",
     "status": "completed"
    },
    "tags": []
   },
   "source": [
    "### 2) Deleted comments\n",
    "\n",
    "How many comments have been deleted? (If a comment was deleted, the `deleted` column in the table will have the value `True`.)"
   ]
  },
  {
   "cell_type": "code",
   "execution_count": 6,
   "id": "fd2725ff",
   "metadata": {
    "execution": {
     "iopub.execute_input": "2024-03-22T07:53:35.373513Z",
     "iopub.status.busy": "2024-03-22T07:53:35.373167Z",
     "iopub.status.idle": "2024-03-22T07:53:36.524943Z",
     "shell.execute_reply": "2024-03-22T07:53:36.523767Z"
    },
    "papermill": {
     "duration": 1.160028,
     "end_time": "2024-03-22T07:53:36.527857",
     "exception": false,
     "start_time": "2024-03-22T07:53:35.367829",
     "status": "completed"
    },
    "tags": []
   },
   "outputs": [
    {
     "name": "stdout",
     "output_type": "stream",
     "text": [
      "   deleted    Nums\n",
      "0     True  859401\n"
     ]
    }
   ],
   "source": [
    "# Write your query here and figure out the answer\n",
    "# Query to select prolific commenters and post counts\n",
    "deleted_comments_query = \"\"\" SELECT deleted, COUNT(deleted) as Nums\n",
    "            FROM `bigquery-public-data.hacker_news.full`\n",
    "            where deleted=True\n",
    "            GROUP BY deleted\n",
    "           \"\"\" # Your code goes here\n",
    "\n",
    "# Set up the query (cancel the query if it would use too much of \n",
    "# your quota, with the limit set to 1 GB)\n",
    "safe_config = bigquery.QueryJobConfig(maximum_bytes_billed=10**10)\n",
    "query_job = client.query(deleted_comments_query, job_config=safe_config)\n",
    "\n",
    "# API request - run the query, and return a pandas DataFrame\n",
    "df=deleted_comments = query_job.to_dataframe()\n",
    "\n",
    "# View top few rows of results\n",
    "print(deleted_comments.head())"
   ]
  },
  {
   "cell_type": "code",
   "execution_count": 7,
   "id": "98f84c8d",
   "metadata": {
    "execution": {
     "iopub.execute_input": "2024-03-22T07:53:36.538177Z",
     "iopub.status.busy": "2024-03-22T07:53:36.537844Z",
     "iopub.status.idle": "2024-03-22T07:53:36.544977Z",
     "shell.execute_reply": "2024-03-22T07:53:36.544243Z"
    },
    "papermill": {
     "duration": 0.014009,
     "end_time": "2024-03-22T07:53:36.546647",
     "exception": false,
     "start_time": "2024-03-22T07:53:36.532638",
     "status": "completed"
    },
    "tags": []
   },
   "outputs": [
    {
     "data": {
      "application/javascript": [
       "parent.postMessage({\"jupyterEvent\": \"custom.exercise_interaction\", \"data\": {\"outcomeType\": 1, \"valueTowardsCompletion\": 0.5, \"interactionType\": 1, \"questionType\": 1, \"questionId\": \"2_NumDeletedPosts\", \"learnToolsVersion\": \"0.3.4\", \"failureMessage\": \"\", \"exceptionClass\": \"\", \"trace\": \"\"}}, \"*\")"
      ],
      "text/plain": [
       "<IPython.core.display.Javascript object>"
      ]
     },
     "metadata": {},
     "output_type": "display_data"
    },
    {
     "data": {
      "text/markdown": [
       "<span style=\"color:#33cc33\">Correct</span>"
      ],
      "text/plain": [
       "Correct"
      ]
     },
     "metadata": {},
     "output_type": "display_data"
    }
   ],
   "source": [
    "num_deleted_posts = df.Nums[0] # Put your answer here\n",
    "\n",
    "# Check your answer\n",
    "q_2.check()"
   ]
  },
  {
   "cell_type": "markdown",
   "id": "d3c84cc5",
   "metadata": {
    "papermill": {
     "duration": 0.004075,
     "end_time": "2024-03-22T07:53:36.555467",
     "exception": false,
     "start_time": "2024-03-22T07:53:36.551392",
     "status": "completed"
    },
    "tags": []
   },
   "source": [
    "For the solution, uncomment the line below."
   ]
  },
  {
   "cell_type": "code",
   "execution_count": 8,
   "id": "a45713dd",
   "metadata": {
    "execution": {
     "iopub.execute_input": "2024-03-22T07:53:36.565211Z",
     "iopub.status.busy": "2024-03-22T07:53:36.564938Z",
     "iopub.status.idle": "2024-03-22T07:53:36.568158Z",
     "shell.execute_reply": "2024-03-22T07:53:36.567443Z"
    },
    "papermill": {
     "duration": 0.009886,
     "end_time": "2024-03-22T07:53:36.569637",
     "exception": false,
     "start_time": "2024-03-22T07:53:36.559751",
     "status": "completed"
    },
    "tags": []
   },
   "outputs": [],
   "source": [
    "#q_2.solution()"
   ]
  },
  {
   "cell_type": "markdown",
   "id": "4fbe1689",
   "metadata": {
    "papermill": {
     "duration": 0.004073,
     "end_time": "2024-03-22T07:53:36.578012",
     "exception": false,
     "start_time": "2024-03-22T07:53:36.573939",
     "status": "completed"
    },
    "tags": []
   },
   "source": [
    "# Keep Going\n",
    "**[Click here](https://www.kaggle.com/dansbecker/order-by)** to move on and learn about the **ORDER BY** clause."
   ]
  },
  {
   "cell_type": "markdown",
   "id": "4d592991",
   "metadata": {
    "papermill": {
     "duration": 0.004084,
     "end_time": "2024-03-22T07:53:36.587036",
     "exception": false,
     "start_time": "2024-03-22T07:53:36.582952",
     "status": "completed"
    },
    "tags": []
   },
   "source": [
    "---\n",
    "\n",
    "\n",
    "\n",
    "\n",
    "*Have questions or comments? Visit the [course discussion forum](https://www.kaggle.com/learn/intro-to-sql/discussion) to chat with other learners.*"
   ]
  }
 ],
 "metadata": {
  "kaggle": {
   "accelerator": "none",
   "dataSources": [
    {
     "datasetId": 6057,
     "sourceId": 285982,
     "sourceType": "datasetVersion"
    }
   ],
   "isGpuEnabled": false,
   "isInternetEnabled": false,
   "language": "python",
   "sourceType": "notebook"
  },
  "kernelspec": {
   "display_name": "Python 3",
   "language": "python",
   "name": "python3"
  },
  "language_info": {
   "codemirror_mode": {
    "name": "ipython",
    "version": 3
   },
   "file_extension": ".py",
   "mimetype": "text/x-python",
   "name": "python",
   "nbconvert_exporter": "python",
   "pygments_lexer": "ipython3",
   "version": "3.10.13"
  },
  "papermill": {
   "default_parameters": {},
   "duration": 12.835505,
   "end_time": "2024-03-22T07:53:37.109817",
   "environment_variables": {},
   "exception": null,
   "input_path": "__notebook__.ipynb",
   "output_path": "__notebook__.ipynb",
   "parameters": {},
   "start_time": "2024-03-22T07:53:24.274312",
   "version": "2.5.0"
  }
 },
 "nbformat": 4,
 "nbformat_minor": 5
}
