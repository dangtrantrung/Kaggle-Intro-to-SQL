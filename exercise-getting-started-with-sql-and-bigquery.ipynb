{
 "cells": [
  {
   "cell_type": "markdown",
   "id": "524fdda6",
   "metadata": {
    "papermill": {
     "duration": 0.008617,
     "end_time": "2024-03-22T03:24:51.147258",
     "exception": false,
     "start_time": "2024-03-22T03:24:51.138641",
     "status": "completed"
    },
    "tags": []
   },
   "source": [
    "**This notebook is an exercise in the [SQL](https://www.kaggle.com/learn/intro-to-sql) course.  You can reference the tutorial at [this link](https://www.kaggle.com/dansbecker/getting-started-with-sql-and-bigquery).**\n",
    "\n",
    "---\n"
   ]
  },
  {
   "cell_type": "markdown",
   "id": "928c4422",
   "metadata": {
    "papermill": {
     "duration": 0.007953,
     "end_time": "2024-03-22T03:24:51.163328",
     "exception": false,
     "start_time": "2024-03-22T03:24:51.155375",
     "status": "completed"
    },
    "tags": []
   },
   "source": [
    "# Introduction\n",
    "\n",
    "The first test of your new data exploration skills uses data describing crime in the city of Chicago.\n",
    "\n",
    "Before you get started, run the following cell. It sets up the automated feedback system to review your answers."
   ]
  },
  {
   "cell_type": "code",
   "execution_count": 1,
   "id": "400f7971",
   "metadata": {
    "execution": {
     "iopub.execute_input": "2024-03-22T03:24:51.181203Z",
     "iopub.status.busy": "2024-03-22T03:24:51.180339Z",
     "iopub.status.idle": "2024-03-22T03:25:00.069448Z",
     "shell.execute_reply": "2024-03-22T03:25:00.068002Z"
    },
    "papermill": {
     "duration": 8.901107,
     "end_time": "2024-03-22T03:25:00.072186",
     "exception": false,
     "start_time": "2024-03-22T03:24:51.171079",
     "status": "completed"
    },
    "tags": []
   },
   "outputs": [
    {
     "name": "stdout",
     "output_type": "stream",
     "text": [
      "Using Kaggle's public dataset BigQuery integration.\n",
      "Setup Complete\n"
     ]
    }
   ],
   "source": [
    "# Set up feedack system\n",
    "from learntools.core import binder\n",
    "binder.bind(globals())\n",
    "from learntools.sql.ex1 import *\n",
    "print(\"Setup Complete\")"
   ]
  },
  {
   "cell_type": "markdown",
   "id": "5cce5f3b",
   "metadata": {
    "papermill": {
     "duration": 0.007601,
     "end_time": "2024-03-22T03:25:00.088179",
     "exception": false,
     "start_time": "2024-03-22T03:25:00.080578",
     "status": "completed"
    },
    "tags": []
   },
   "source": [
    "Use the next code cell to fetch the dataset."
   ]
  },
  {
   "cell_type": "code",
   "execution_count": 2,
   "id": "1e199d37",
   "metadata": {
    "execution": {
     "iopub.execute_input": "2024-03-22T03:25:00.105832Z",
     "iopub.status.busy": "2024-03-22T03:25:00.105169Z",
     "iopub.status.idle": "2024-03-22T03:25:01.133067Z",
     "shell.execute_reply": "2024-03-22T03:25:01.131918Z"
    },
    "papermill": {
     "duration": 1.040443,
     "end_time": "2024-03-22T03:25:01.136274",
     "exception": false,
     "start_time": "2024-03-22T03:25:00.095831",
     "status": "completed"
    },
    "tags": []
   },
   "outputs": [
    {
     "name": "stdout",
     "output_type": "stream",
     "text": [
      "Using Kaggle's public dataset BigQuery integration.\n"
     ]
    }
   ],
   "source": [
    "from google.cloud import bigquery\n",
    "\n",
    "# Create a \"Client\" object\n",
    "client = bigquery.Client()\n",
    "\n",
    "# Construct a reference to the \"chicago_crime\" dataset\n",
    "dataset_ref = client.dataset(\"chicago_crime\", project=\"bigquery-public-data\")\n",
    "\n",
    "# API request - fetch the dataset\n",
    "dataset = client.get_dataset(dataset_ref)"
   ]
  },
  {
   "cell_type": "markdown",
   "id": "bfacdf5b",
   "metadata": {
    "papermill": {
     "duration": 0.007553,
     "end_time": "2024-03-22T03:25:01.151862",
     "exception": false,
     "start_time": "2024-03-22T03:25:01.144309",
     "status": "completed"
    },
    "tags": []
   },
   "source": [
    "# Exercises\n",
    "\n",
    "### 1) Count tables in the dataset\n",
    "\n",
    "How many tables are in the Chicago Crime dataset?"
   ]
  },
  {
   "cell_type": "code",
   "execution_count": 3,
   "id": "2c009627",
   "metadata": {
    "execution": {
     "iopub.execute_input": "2024-03-22T03:25:01.170226Z",
     "iopub.status.busy": "2024-03-22T03:25:01.169787Z",
     "iopub.status.idle": "2024-03-22T03:25:02.173216Z",
     "shell.execute_reply": "2024-03-22T03:25:02.172126Z"
    },
    "papermill": {
     "duration": 1.016535,
     "end_time": "2024-03-22T03:25:02.176295",
     "exception": false,
     "start_time": "2024-03-22T03:25:01.159760",
     "status": "completed"
    },
    "tags": []
   },
   "outputs": [],
   "source": [
    "# Write the code you need here to figure out the answer\n",
    "count=len(list(client.list_tables(dataset)))"
   ]
  },
  {
   "cell_type": "code",
   "execution_count": 4,
   "id": "034cae94",
   "metadata": {
    "execution": {
     "iopub.execute_input": "2024-03-22T03:25:02.195279Z",
     "iopub.status.busy": "2024-03-22T03:25:02.194830Z",
     "iopub.status.idle": "2024-03-22T03:25:02.204783Z",
     "shell.execute_reply": "2024-03-22T03:25:02.203778Z"
    },
    "papermill": {
     "duration": 0.022362,
     "end_time": "2024-03-22T03:25:02.207135",
     "exception": false,
     "start_time": "2024-03-22T03:25:02.184773",
     "status": "completed"
    },
    "tags": []
   },
   "outputs": [
    {
     "data": {
      "application/javascript": [
       "parent.postMessage({\"jupyterEvent\": \"custom.exercise_interaction\", \"data\": {\"outcomeType\": 1, \"valueTowardsCompletion\": 0.3333333333333333, \"interactionType\": 1, \"questionType\": 1, \"questionId\": \"1_CountTables\", \"learnToolsVersion\": \"0.3.4\", \"failureMessage\": \"\", \"exceptionClass\": \"\", \"trace\": \"\"}}, \"*\")"
      ],
      "text/plain": [
       "<IPython.core.display.Javascript object>"
      ]
     },
     "metadata": {},
     "output_type": "display_data"
    },
    {
     "data": {
      "text/markdown": [
       "<span style=\"color:#33cc33\">Correct</span>"
      ],
      "text/plain": [
       "Correct"
      ]
     },
     "metadata": {},
     "output_type": "display_data"
    }
   ],
   "source": [
    "num_tables = count  # Store the answer as num_tables and then run this cell\n",
    "\n",
    "# Check your answer\n",
    "q_1.check()"
   ]
  },
  {
   "cell_type": "markdown",
   "id": "12d0f39c",
   "metadata": {
    "papermill": {
     "duration": 0.008637,
     "end_time": "2024-03-22T03:25:02.224197",
     "exception": false,
     "start_time": "2024-03-22T03:25:02.215560",
     "status": "completed"
    },
    "tags": []
   },
   "source": [
    "For a hint or the solution, uncomment the appropriate line below."
   ]
  },
  {
   "cell_type": "code",
   "execution_count": 5,
   "id": "38b8a95c",
   "metadata": {
    "execution": {
     "iopub.execute_input": "2024-03-22T03:25:02.243714Z",
     "iopub.status.busy": "2024-03-22T03:25:02.243258Z",
     "iopub.status.idle": "2024-03-22T03:25:02.247858Z",
     "shell.execute_reply": "2024-03-22T03:25:02.246786Z"
    },
    "papermill": {
     "duration": 0.017226,
     "end_time": "2024-03-22T03:25:02.250281",
     "exception": false,
     "start_time": "2024-03-22T03:25:02.233055",
     "status": "completed"
    },
    "tags": []
   },
   "outputs": [],
   "source": [
    "#q_1.hint()\n",
    "#q_1.solution()"
   ]
  },
  {
   "cell_type": "markdown",
   "id": "c9e887df",
   "metadata": {
    "papermill": {
     "duration": 0.009217,
     "end_time": "2024-03-22T03:25:02.267941",
     "exception": false,
     "start_time": "2024-03-22T03:25:02.258724",
     "status": "completed"
    },
    "tags": []
   },
   "source": [
    "### 2) Explore the table schema\n",
    "\n",
    "How many columns in the `crime` table have `TIMESTAMP` data?"
   ]
  },
  {
   "cell_type": "code",
   "execution_count": 6,
   "id": "4e74bbd0",
   "metadata": {
    "execution": {
     "iopub.execute_input": "2024-03-22T03:25:02.287043Z",
     "iopub.status.busy": "2024-03-22T03:25:02.286612Z",
     "iopub.status.idle": "2024-03-22T03:25:04.259879Z",
     "shell.execute_reply": "2024-03-22T03:25:04.259035Z"
    },
    "papermill": {
     "duration": 1.986053,
     "end_time": "2024-03-22T03:25:04.262596",
     "exception": false,
     "start_time": "2024-03-22T03:25:02.276543",
     "status": "completed"
    },
    "tags": []
   },
   "outputs": [
    {
     "name": "stdout",
     "output_type": "stream",
     "text": [
      "crime\n",
      "<class 'pandas.core.frame.DataFrame'>\n",
      "RangeIndex: 5 entries, 0 to 4\n",
      "Data columns (total 22 columns):\n",
      " #   Column                Non-Null Count  Dtype              \n",
      "---  ------                --------------  -----              \n",
      " 0   unique_key            5 non-null      int64              \n",
      " 1   case_number           5 non-null      object             \n",
      " 2   date                  5 non-null      datetime64[us, UTC]\n",
      " 3   block                 5 non-null      object             \n",
      " 4   iucr                  5 non-null      object             \n",
      " 5   primary_type          5 non-null      object             \n",
      " 6   description           5 non-null      object             \n",
      " 7   location_description  5 non-null      object             \n",
      " 8   arrest                5 non-null      bool               \n",
      " 9   domestic              5 non-null      bool               \n",
      " 10  beat                  5 non-null      int64              \n",
      " 11  district              5 non-null      int64              \n",
      " 12  ward                  5 non-null      int64              \n",
      " 13  community_area        5 non-null      int64              \n",
      " 14  fbi_code              5 non-null      object             \n",
      " 15  x_coordinate          5 non-null      float64            \n",
      " 16  y_coordinate          5 non-null      float64            \n",
      " 17  year                  5 non-null      int64              \n",
      " 18  updated_on            5 non-null      datetime64[us, UTC]\n",
      " 19  latitude              5 non-null      float64            \n",
      " 20  longitude             5 non-null      float64            \n",
      " 21  location              5 non-null      object             \n",
      "dtypes: bool(2), datetime64[us, UTC](2), float64(4), int64(6), object(8)\n",
      "memory usage: 938.0+ bytes\n"
     ]
    }
   ],
   "source": [
    "# Write the code to figure out the answer\n",
    "tables=list(client.list_tables(dataset))\n",
    "for table in tables:  \n",
    "    print(table.table_id)\n",
    "crime_ref = dataset_ref.table(\"crime\")\n",
    "crime = client.get_table(crime_ref)\n",
    "crime.schema\n",
    "df=client.list_rows(crime, max_results=5).to_dataframe()\n",
    "df.info()"
   ]
  },
  {
   "cell_type": "code",
   "execution_count": 7,
   "id": "6bc36c99",
   "metadata": {
    "execution": {
     "iopub.execute_input": "2024-03-22T03:25:04.282150Z",
     "iopub.status.busy": "2024-03-22T03:25:04.281638Z",
     "iopub.status.idle": "2024-03-22T03:25:04.286828Z",
     "shell.execute_reply": "2024-03-22T03:25:04.286028Z"
    },
    "papermill": {
     "duration": 0.01757,
     "end_time": "2024-03-22T03:25:04.288867",
     "exception": false,
     "start_time": "2024-03-22T03:25:04.271297",
     "status": "completed"
    },
    "tags": []
   },
   "outputs": [],
   "source": [
    "ls=[x for x in df.columns if df[x].dtype=='datetime64[us, UTC]']"
   ]
  },
  {
   "cell_type": "code",
   "execution_count": 8,
   "id": "9a51db35",
   "metadata": {
    "execution": {
     "iopub.execute_input": "2024-03-22T03:25:04.308239Z",
     "iopub.status.busy": "2024-03-22T03:25:04.307468Z",
     "iopub.status.idle": "2024-03-22T03:25:04.313374Z",
     "shell.execute_reply": "2024-03-22T03:25:04.312444Z"
    },
    "papermill": {
     "duration": 0.018012,
     "end_time": "2024-03-22T03:25:04.315475",
     "exception": false,
     "start_time": "2024-03-22T03:25:04.297463",
     "status": "completed"
    },
    "tags": []
   },
   "outputs": [
    {
     "data": {
      "text/plain": [
       "['date', 'updated_on']"
      ]
     },
     "execution_count": 8,
     "metadata": {},
     "output_type": "execute_result"
    }
   ],
   "source": [
    "ls"
   ]
  },
  {
   "cell_type": "code",
   "execution_count": 9,
   "id": "2bd049f1",
   "metadata": {
    "execution": {
     "iopub.execute_input": "2024-03-22T03:25:04.335098Z",
     "iopub.status.busy": "2024-03-22T03:25:04.334378Z",
     "iopub.status.idle": "2024-03-22T03:25:04.342572Z",
     "shell.execute_reply": "2024-03-22T03:25:04.341842Z"
    },
    "papermill": {
     "duration": 0.020762,
     "end_time": "2024-03-22T03:25:04.344858",
     "exception": false,
     "start_time": "2024-03-22T03:25:04.324096",
     "status": "completed"
    },
    "tags": []
   },
   "outputs": [
    {
     "data": {
      "application/javascript": [
       "parent.postMessage({\"jupyterEvent\": \"custom.exercise_interaction\", \"data\": {\"outcomeType\": 1, \"valueTowardsCompletion\": 0.3333333333333333, \"interactionType\": 1, \"questionType\": 1, \"questionId\": \"2_CountTimestampFields\", \"learnToolsVersion\": \"0.3.4\", \"failureMessage\": \"\", \"exceptionClass\": \"\", \"trace\": \"\"}}, \"*\")"
      ],
      "text/plain": [
       "<IPython.core.display.Javascript object>"
      ]
     },
     "metadata": {},
     "output_type": "display_data"
    },
    {
     "data": {
      "text/markdown": [
       "<span style=\"color:#33cc33\">Correct</span>"
      ],
      "text/plain": [
       "Correct"
      ]
     },
     "metadata": {},
     "output_type": "display_data"
    }
   ],
   "source": [
    "\n",
    "num_timestamp_fields = len(ls) # Put your answer here\n",
    "\n",
    "# Check your answer\n",
    "q_2.check()"
   ]
  },
  {
   "cell_type": "markdown",
   "id": "32a77f38",
   "metadata": {
    "papermill": {
     "duration": 0.00866,
     "end_time": "2024-03-22T03:25:04.362504",
     "exception": false,
     "start_time": "2024-03-22T03:25:04.353844",
     "status": "completed"
    },
    "tags": []
   },
   "source": [
    "For a hint or the solution, uncomment the appropriate line below."
   ]
  },
  {
   "cell_type": "code",
   "execution_count": 10,
   "id": "74885b1d",
   "metadata": {
    "execution": {
     "iopub.execute_input": "2024-03-22T03:25:04.383268Z",
     "iopub.status.busy": "2024-03-22T03:25:04.382040Z",
     "iopub.status.idle": "2024-03-22T03:25:04.387418Z",
     "shell.execute_reply": "2024-03-22T03:25:04.386172Z"
    },
    "papermill": {
     "duration": 0.018537,
     "end_time": "2024-03-22T03:25:04.389960",
     "exception": false,
     "start_time": "2024-03-22T03:25:04.371423",
     "status": "completed"
    },
    "tags": []
   },
   "outputs": [],
   "source": [
    "#q_2.hint()\n",
    "#q_2.solution()"
   ]
  },
  {
   "cell_type": "markdown",
   "id": "0af87397",
   "metadata": {
    "papermill": {
     "duration": 0.008961,
     "end_time": "2024-03-22T03:25:04.409210",
     "exception": false,
     "start_time": "2024-03-22T03:25:04.400249",
     "status": "completed"
    },
    "tags": []
   },
   "source": [
    "### 3) Create a crime map\n",
    "\n",
    "If you wanted to create a map with a dot at the location of each crime, what are the names of the two fields you likely need to pull out of the `crime` table to plot the crimes on a map?"
   ]
  },
  {
   "cell_type": "code",
   "execution_count": 11,
   "id": "7055fa78",
   "metadata": {
    "execution": {
     "iopub.execute_input": "2024-03-22T03:25:04.430170Z",
     "iopub.status.busy": "2024-03-22T03:25:04.429260Z",
     "iopub.status.idle": "2024-03-22T03:25:04.433939Z",
     "shell.execute_reply": "2024-03-22T03:25:04.432873Z"
    },
    "papermill": {
     "duration": 0.017821,
     "end_time": "2024-03-22T03:25:04.436240",
     "exception": false,
     "start_time": "2024-03-22T03:25:04.418419",
     "status": "completed"
    },
    "tags": []
   },
   "outputs": [],
   "source": [
    "# Write the code here to explore the data so you can find the answer"
   ]
  },
  {
   "cell_type": "code",
   "execution_count": 12,
   "id": "de31e336",
   "metadata": {
    "execution": {
     "iopub.execute_input": "2024-03-22T03:25:04.457066Z",
     "iopub.status.busy": "2024-03-22T03:25:04.456284Z",
     "iopub.status.idle": "2024-03-22T03:25:04.466042Z",
     "shell.execute_reply": "2024-03-22T03:25:04.464994Z"
    },
    "papermill": {
     "duration": 0.022816,
     "end_time": "2024-03-22T03:25:04.468294",
     "exception": false,
     "start_time": "2024-03-22T03:25:04.445478",
     "status": "completed"
    },
    "tags": []
   },
   "outputs": [
    {
     "name": "stdout",
     "output_type": "stream",
     "text": [
      "`'latitude'` and `'longitude'` would be better and more standard than `'x_coordinate'` and `'y_coordinate'`, but this might work.\n"
     ]
    },
    {
     "data": {
      "application/javascript": [
       "parent.postMessage({\"jupyterEvent\": \"custom.exercise_interaction\", \"data\": {\"outcomeType\": 1, \"valueTowardsCompletion\": 0.3333333333333333, \"interactionType\": 1, \"questionType\": 2, \"questionId\": \"3_IdentifyFieldsForPlotting\", \"learnToolsVersion\": \"0.3.4\", \"failureMessage\": \"\", \"exceptionClass\": \"\", \"trace\": \"\"}}, \"*\")"
      ],
      "text/plain": [
       "<IPython.core.display.Javascript object>"
      ]
     },
     "metadata": {},
     "output_type": "display_data"
    },
    {
     "data": {
      "text/markdown": [
       "<span style=\"color:#33cc33\">Correct</span>"
      ],
      "text/plain": [
       "Correct"
      ]
     },
     "metadata": {},
     "output_type": "display_data"
    }
   ],
   "source": [
    "fields_for_plotting = ['x_coordinate', 'y_coordinate'] # Put your answers here\n",
    "\n",
    "# Check your answer\n",
    "q_3.check()"
   ]
  },
  {
   "cell_type": "markdown",
   "id": "c7ca02d8",
   "metadata": {
    "papermill": {
     "duration": 0.009465,
     "end_time": "2024-03-22T03:25:04.487285",
     "exception": false,
     "start_time": "2024-03-22T03:25:04.477820",
     "status": "completed"
    },
    "tags": []
   },
   "source": [
    "For a hint or the solution, uncomment the appropriate line below."
   ]
  },
  {
   "cell_type": "code",
   "execution_count": 13,
   "id": "b0928cd4",
   "metadata": {
    "execution": {
     "iopub.execute_input": "2024-03-22T03:25:04.508422Z",
     "iopub.status.busy": "2024-03-22T03:25:04.507996Z",
     "iopub.status.idle": "2024-03-22T03:25:04.512459Z",
     "shell.execute_reply": "2024-03-22T03:25:04.511390Z"
    },
    "papermill": {
     "duration": 0.01795,
     "end_time": "2024-03-22T03:25:04.514857",
     "exception": false,
     "start_time": "2024-03-22T03:25:04.496907",
     "status": "completed"
    },
    "tags": []
   },
   "outputs": [],
   "source": [
    "#q_3.hint()\n",
    "#q_3.solution()"
   ]
  },
  {
   "cell_type": "markdown",
   "id": "890730ca",
   "metadata": {
    "papermill": {
     "duration": 0.009517,
     "end_time": "2024-03-22T03:25:04.534167",
     "exception": false,
     "start_time": "2024-03-22T03:25:04.524650",
     "status": "completed"
    },
    "tags": []
   },
   "source": [
    "Thinking about the question above, there are a few columns that appear to have geographic data. Look at a few values (with the `list_rows()` command) to see if you can determine their relationship.  Two columns will still be hard to interpret. But it should be obvious how the `location` column relates to `latitude` and `longitude`."
   ]
  },
  {
   "cell_type": "code",
   "execution_count": 14,
   "id": "7db272b2",
   "metadata": {
    "execution": {
     "iopub.execute_input": "2024-03-22T03:25:04.555530Z",
     "iopub.status.busy": "2024-03-22T03:25:04.555083Z",
     "iopub.status.idle": "2024-03-22T03:25:04.559626Z",
     "shell.execute_reply": "2024-03-22T03:25:04.558587Z"
    },
    "papermill": {
     "duration": 0.017795,
     "end_time": "2024-03-22T03:25:04.561895",
     "exception": false,
     "start_time": "2024-03-22T03:25:04.544100",
     "status": "completed"
    },
    "tags": []
   },
   "outputs": [],
   "source": [
    "# Scratch space for your code"
   ]
  },
  {
   "cell_type": "markdown",
   "id": "495ae1a2",
   "metadata": {
    "papermill": {
     "duration": 0.0095,
     "end_time": "2024-03-22T03:25:04.581207",
     "exception": false,
     "start_time": "2024-03-22T03:25:04.571707",
     "status": "completed"
    },
    "tags": []
   },
   "source": [
    "# Keep going\n",
    "\n",
    "You've looked at the schema, but you haven't yet done anything exciting with the data itself. Things get more interesting when you get to the data, so keep going to **[write your first SQL query](https://www.kaggle.com/dansbecker/select-from-where).**"
   ]
  },
  {
   "cell_type": "markdown",
   "id": "f9778bb3",
   "metadata": {
    "papermill": {
     "duration": 0.009505,
     "end_time": "2024-03-22T03:25:04.600254",
     "exception": false,
     "start_time": "2024-03-22T03:25:04.590749",
     "status": "completed"
    },
    "tags": []
   },
   "source": [
    "---\n",
    "\n",
    "\n",
    "\n",
    "\n",
    "*Have questions or comments? Visit the [course discussion forum](https://www.kaggle.com/learn/intro-to-sql/discussion) to chat with other learners.*"
   ]
  }
 ],
 "metadata": {
  "kaggle": {
   "accelerator": "none",
   "dataSources": [
    {
     "datasetId": 22090,
     "sourceId": 28376,
     "sourceType": "datasetVersion"
    },
    {
     "datasetId": 6057,
     "sourceId": 285982,
     "sourceType": "datasetVersion"
    }
   ],
   "isGpuEnabled": false,
   "isInternetEnabled": false,
   "language": "python",
   "sourceType": "notebook"
  },
  "kernelspec": {
   "display_name": "Python 3",
   "language": "python",
   "name": "python3"
  },
  "language_info": {
   "codemirror_mode": {
    "name": "ipython",
    "version": 3
   },
   "file_extension": ".py",
   "mimetype": "text/x-python",
   "name": "python",
   "nbconvert_exporter": "python",
   "pygments_lexer": "ipython3",
   "version": "3.10.13"
  },
  "papermill": {
   "default_parameters": {},
   "duration": 17.640776,
   "end_time": "2024-03-22T03:25:05.634603",
   "environment_variables": {},
   "exception": null,
   "input_path": "__notebook__.ipynb",
   "output_path": "__notebook__.ipynb",
   "parameters": {},
   "start_time": "2024-03-22T03:24:47.993827",
   "version": "2.5.0"
  }
 },
 "nbformat": 4,
 "nbformat_minor": 5
}
